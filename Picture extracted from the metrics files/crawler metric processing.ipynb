{
 "cells": [
  {
   "cell_type": "code",
   "execution_count": 1,
   "metadata": {},
   "outputs": [
    {
     "name": "stdout",
     "output_type": "stream",
     "text": [
      "['.ipynb_checkpoints', '.picasa.ini', 'centos5.11.6a77cdcd4e51.0', 'centos5.a0f8e1c9ede0.0', 'centos6.6.19494226358d.0', 'centos6.7.55c7f40f0eac.0', 'centos6.8.7f4c7d980794.0', 'centos6.9.fc5fcc54e9be.0', 'centos6.a8b14a36fb59.0', 'centos7.0.1406.f6175eb9936f.0', 'centos7.1.1503.97bb3c044d41.0', 'centos7.2.1511.3396d9e7ba26.0', 'centos7.3.1611.90e3d7fbcc20.0', 'centos7.4.1708.558fa9c5643a.0', 'centos7.59d57860f4ae.0', 'crawler metric processing.ipynb', 'crawler_collected_files', 'Crawler_Exercise', 'dummy_image.png', 'ubuntu10.04.e11366eb15a4.0', 'ubuntu12.04.2c67f0261f71.0', 'ubuntu12.04.5.1a0e573b9665.0', 'ubuntu12.10.7a838b8719e1.0', 'ubuntu13.04.9588ae629aea.0', 'ubuntu13.10.86c64f9624e7.0', 'ubuntu14.04.1.fdbe7226379e.0', 'ubuntu14.04.2.fb4035e1c467.0', 'ubuntu14.04.3.9bd5b4d0cd69.0', 'ubuntu14.04.4.c83e5a548c50.0', 'ubuntu14.04.5.0db3a66d6794.0', 'ubuntu14.04.d9664eaca4a5.0', 'ubuntu15.10.2a6b350b49f3.0', 'ubuntu16.04.579859c874dc.0', 'ubuntu16.10.ec782ccc466e.0', 'ubuntu17.04.140e8fbad90b.0', 'ubuntu17.10.f26902038205.0', 'ubuntu18.04.6a75aab4424d.0', 'ubuntu_centos_classification.csv']\n"
     ]
    }
   ],
   "source": [
    "#List the files of the directory --> collected from crawler\n",
    "import os\n",
    "import numpy as np\n",
    "file_name = os.listdir(os.getcwd())\n",
    "\n",
    "print file_name"
   ]
  },
  {
   "cell_type": "code",
   "execution_count": 2,
   "metadata": {
    "collapsed": true,
    "scrolled": true
   },
   "outputs": [],
   "source": [
    "#A function to count the number of times, a unigram is present in the collected metrics file\n",
    "def unigram_counter(line_holder,unigram):\n",
    "    container_files = []\n",
    "    for line in line_holder:\n",
    "        if unigram in line:\n",
    "            container_files.append(line)\n",
    "        else:\n",
    "            pass\n",
    "    return(len(container_files))\n",
    "\n",
    "#List of frequency used unigram in ubuntu and centos containers\n",
    "unigram_list = ['RPM-GPG-KEY-CentOS','CentOS-Debuginfo.repo','CentOS-Media.repo','CentOS-fasttrack.repo','centos-x86_64','centos-noarch','centos-release','/etc/mke2fs.conf','/etc/yum.repos.d','/etc/yum','/etc/pki/rpm-gpg','usr/share/terminfo','charmaps','/usr/lib/rpm/','/var/lib/rpm/','/var/lib/yum/yumdb','centos-release','dpkg/origins/ubuntu','/etc/depmod.d/ubuntu.conf','ubuntu-archive-keyring','ubuntu-archive','ubuntu-keyring','archive.ubuntu.com','/etc/debian_version','/etc/bash.bashrc','/etc/rc1.d','/etc/init/hostname.conf','chown','udevadm','udevadm','apt-cache','udevadm','udevadm','/usr/share/X11','/usr/share/common-licenses','Dpkg','Debconf','dpkg-divert','libgthread','x86_64-linux-gnu','/usr/lib/apt/','pam_unix','debconf','apt-utils','ntpdate','tasksel']\n",
    "\n",
    "#Processing for metrics collected from centos container\n",
    "feature_extract_files=[]\n",
    "feature_extract_values=[]\n",
    "for metric_file in file_name:\n",
    "    if metric_file.startswith('c') and metric_file.endswith('0'):\n",
    "        #print '****************',metric_file,'*************************'\n",
    "        fp = open(metric_file, \"r\")\n",
    "        line_holder=[]\n",
    "        for line in fp:\n",
    "            line_holder.append(line)\n",
    "        container_files = []\n",
    "        for line in line_holder:\n",
    "            if 'package' and 'yum' in line:\n",
    "                container_files.append(line)\n",
    "            else:\n",
    "                pass\n",
    "        for unigram in unigram_list:\n",
    "            feature_extract_values.append(unigram_counter(line_holder,unigram))\n",
    "        feature_extract_values.append(len(container_files))\n",
    "        feature_extract_values.append('centos')\n",
    "        feature_extract_files.append(feature_extract_values)\n",
    "        feature_extract_values=[]"
   ]
  },
  {
   "cell_type": "code",
   "execution_count": 3,
   "metadata": {
    "collapsed": true,
    "scrolled": true
   },
   "outputs": [],
   "source": [
    "#Processing for metrics collected from ubuntu container\n",
    "for metric_file in file_name:\n",
    "    if metric_file.startswith('u') and metric_file.endswith('0'):\n",
    "        #print '****************',metric_file,'*************************'\n",
    "        fp = open(metric_file, \"r\")\n",
    "        line_holder=[]\n",
    "        for line in fp:\n",
    "            line_holder.append(line)\n",
    "        container_files = []\n",
    "        for line in line_holder:\n",
    "            if 'package' and 'apt' in line:\n",
    "                container_files.append(line)\n",
    "            else:\n",
    "                pass\n",
    "        for unigram in unigram_list:\n",
    "            feature_extract_values.append(unigram_counter(line_holder,unigram))\n",
    "        feature_extract_values.append(len(container_files))\n",
    "        feature_extract_values.append('ubuntu')\n",
    "        feature_extract_files.append(feature_extract_values)\n",
    "        feature_extract_values=[]"
   ]
  },
  {
   "cell_type": "code",
   "execution_count": 4,
   "metadata": {
    "collapsed": true
   },
   "outputs": [],
   "source": [
    "#Create the datafram with the columns as unigram \n",
    "unigram_list.append('Package+apt')\n",
    "unigram_list.append('OS_type')\n",
    "dataset_columns=unigram_list\n",
    "\n",
    "import pandas as pd\n",
    "\n",
    "df = pd.DataFrame(feature_extract_files, columns=dataset_columns)"
   ]
  },
  {
   "cell_type": "code",
   "execution_count": 5,
   "metadata": {},
   "outputs": [
    {
     "data": {
      "text/html": [
       "<div>\n",
       "<style>\n",
       "    .dataframe thead tr:only-child th {\n",
       "        text-align: right;\n",
       "    }\n",
       "\n",
       "    .dataframe thead th {\n",
       "        text-align: left;\n",
       "    }\n",
       "\n",
       "    .dataframe tbody tr th {\n",
       "        vertical-align: top;\n",
       "    }\n",
       "</style>\n",
       "<table border=\"1\" class=\"dataframe\">\n",
       "  <thead>\n",
       "    <tr style=\"text-align: right;\">\n",
       "      <th></th>\n",
       "      <th>RPM-GPG-KEY-CentOS</th>\n",
       "      <th>CentOS-Debuginfo.repo</th>\n",
       "      <th>CentOS-Media.repo</th>\n",
       "      <th>CentOS-fasttrack.repo</th>\n",
       "      <th>centos-x86_64</th>\n",
       "      <th>centos-noarch</th>\n",
       "      <th>centos-release</th>\n",
       "      <th>/etc/mke2fs.conf</th>\n",
       "      <th>/etc/yum.repos.d</th>\n",
       "      <th>/etc/yum</th>\n",
       "      <th>...</th>\n",
       "      <th>libgthread</th>\n",
       "      <th>x86_64-linux-gnu</th>\n",
       "      <th>/usr/lib/apt/</th>\n",
       "      <th>pam_unix</th>\n",
       "      <th>debconf</th>\n",
       "      <th>apt-utils</th>\n",
       "      <th>ntpdate</th>\n",
       "      <th>tasksel</th>\n",
       "      <th>Package+apt</th>\n",
       "      <th>OS_type</th>\n",
       "    </tr>\n",
       "  </thead>\n",
       "  <tbody>\n",
       "    <tr>\n",
       "      <th>0</th>\n",
       "      <td>1</td>\n",
       "      <td>1</td>\n",
       "      <td>1</td>\n",
       "      <td>1</td>\n",
       "      <td>48</td>\n",
       "      <td>32</td>\n",
       "      <td>18</td>\n",
       "      <td>1</td>\n",
       "      <td>8</td>\n",
       "      <td>12</td>\n",
       "      <td>...</td>\n",
       "      <td>2</td>\n",
       "      <td>0</td>\n",
       "      <td>0</td>\n",
       "      <td>5</td>\n",
       "      <td>0</td>\n",
       "      <td>0</td>\n",
       "      <td>0</td>\n",
       "      <td>0</td>\n",
       "      <td>1071</td>\n",
       "      <td>centos</td>\n",
       "    </tr>\n",
       "    <tr>\n",
       "      <th>1</th>\n",
       "      <td>1</td>\n",
       "      <td>1</td>\n",
       "      <td>1</td>\n",
       "      <td>1</td>\n",
       "      <td>48</td>\n",
       "      <td>32</td>\n",
       "      <td>18</td>\n",
       "      <td>1</td>\n",
       "      <td>8</td>\n",
       "      <td>12</td>\n",
       "      <td>...</td>\n",
       "      <td>2</td>\n",
       "      <td>0</td>\n",
       "      <td>0</td>\n",
       "      <td>5</td>\n",
       "      <td>0</td>\n",
       "      <td>0</td>\n",
       "      <td>0</td>\n",
       "      <td>0</td>\n",
       "      <td>1071</td>\n",
       "      <td>centos</td>\n",
       "    </tr>\n",
       "    <tr>\n",
       "      <th>2</th>\n",
       "      <td>4</td>\n",
       "      <td>1</td>\n",
       "      <td>1</td>\n",
       "      <td>1</td>\n",
       "      <td>9</td>\n",
       "      <td>18</td>\n",
       "      <td>13</td>\n",
       "      <td>0</td>\n",
       "      <td>6</td>\n",
       "      <td>14</td>\n",
       "      <td>...</td>\n",
       "      <td>2</td>\n",
       "      <td>0</td>\n",
       "      <td>0</td>\n",
       "      <td>5</td>\n",
       "      <td>0</td>\n",
       "      <td>0</td>\n",
       "      <td>0</td>\n",
       "      <td>0</td>\n",
       "      <td>1399</td>\n",
       "      <td>centos</td>\n",
       "    </tr>\n",
       "    <tr>\n",
       "      <th>3</th>\n",
       "      <td>4</td>\n",
       "      <td>1</td>\n",
       "      <td>1</td>\n",
       "      <td>1</td>\n",
       "      <td>0</td>\n",
       "      <td>0</td>\n",
       "      <td>4</td>\n",
       "      <td>0</td>\n",
       "      <td>6</td>\n",
       "      <td>14</td>\n",
       "      <td>...</td>\n",
       "      <td>2</td>\n",
       "      <td>0</td>\n",
       "      <td>0</td>\n",
       "      <td>5</td>\n",
       "      <td>0</td>\n",
       "      <td>0</td>\n",
       "      <td>0</td>\n",
       "      <td>0</td>\n",
       "      <td>159</td>\n",
       "      <td>centos</td>\n",
       "    </tr>\n",
       "    <tr>\n",
       "      <th>4</th>\n",
       "      <td>4</td>\n",
       "      <td>1</td>\n",
       "      <td>1</td>\n",
       "      <td>1</td>\n",
       "      <td>0</td>\n",
       "      <td>9</td>\n",
       "      <td>13</td>\n",
       "      <td>0</td>\n",
       "      <td>6</td>\n",
       "      <td>15</td>\n",
       "      <td>...</td>\n",
       "      <td>2</td>\n",
       "      <td>0</td>\n",
       "      <td>0</td>\n",
       "      <td>5</td>\n",
       "      <td>0</td>\n",
       "      <td>0</td>\n",
       "      <td>0</td>\n",
       "      <td>0</td>\n",
       "      <td>1408</td>\n",
       "      <td>centos</td>\n",
       "    </tr>\n",
       "    <tr>\n",
       "      <th>5</th>\n",
       "      <td>4</td>\n",
       "      <td>1</td>\n",
       "      <td>1</td>\n",
       "      <td>1</td>\n",
       "      <td>18</td>\n",
       "      <td>9</td>\n",
       "      <td>13</td>\n",
       "      <td>0</td>\n",
       "      <td>6</td>\n",
       "      <td>15</td>\n",
       "      <td>...</td>\n",
       "      <td>2</td>\n",
       "      <td>0</td>\n",
       "      <td>0</td>\n",
       "      <td>5</td>\n",
       "      <td>0</td>\n",
       "      <td>0</td>\n",
       "      <td>0</td>\n",
       "      <td>0</td>\n",
       "      <td>1408</td>\n",
       "      <td>centos</td>\n",
       "    </tr>\n",
       "    <tr>\n",
       "      <th>6</th>\n",
       "      <td>4</td>\n",
       "      <td>1</td>\n",
       "      <td>1</td>\n",
       "      <td>1</td>\n",
       "      <td>18</td>\n",
       "      <td>9</td>\n",
       "      <td>13</td>\n",
       "      <td>0</td>\n",
       "      <td>6</td>\n",
       "      <td>15</td>\n",
       "      <td>...</td>\n",
       "      <td>2</td>\n",
       "      <td>0</td>\n",
       "      <td>0</td>\n",
       "      <td>5</td>\n",
       "      <td>0</td>\n",
       "      <td>0</td>\n",
       "      <td>0</td>\n",
       "      <td>0</td>\n",
       "      <td>1390</td>\n",
       "      <td>centos</td>\n",
       "    </tr>\n",
       "    <tr>\n",
       "      <th>7</th>\n",
       "      <td>3</td>\n",
       "      <td>1</td>\n",
       "      <td>0</td>\n",
       "      <td>0</td>\n",
       "      <td>0</td>\n",
       "      <td>26</td>\n",
       "      <td>16</td>\n",
       "      <td>0</td>\n",
       "      <td>5</td>\n",
       "      <td>15</td>\n",
       "      <td>...</td>\n",
       "      <td>2</td>\n",
       "      <td>0</td>\n",
       "      <td>0</td>\n",
       "      <td>5</td>\n",
       "      <td>0</td>\n",
       "      <td>0</td>\n",
       "      <td>0</td>\n",
       "      <td>0</td>\n",
       "      <td>1413</td>\n",
       "      <td>centos</td>\n",
       "    </tr>\n",
       "    <tr>\n",
       "      <th>8</th>\n",
       "      <td>3</td>\n",
       "      <td>1</td>\n",
       "      <td>0</td>\n",
       "      <td>1</td>\n",
       "      <td>0</td>\n",
       "      <td>26</td>\n",
       "      <td>15</td>\n",
       "      <td>0</td>\n",
       "      <td>7</td>\n",
       "      <td>18</td>\n",
       "      <td>...</td>\n",
       "      <td>2</td>\n",
       "      <td>0</td>\n",
       "      <td>0</td>\n",
       "      <td>5</td>\n",
       "      <td>0</td>\n",
       "      <td>0</td>\n",
       "      <td>0</td>\n",
       "      <td>0</td>\n",
       "      <td>1416</td>\n",
       "      <td>centos</td>\n",
       "    </tr>\n",
       "    <tr>\n",
       "      <th>9</th>\n",
       "      <td>3</td>\n",
       "      <td>1</td>\n",
       "      <td>1</td>\n",
       "      <td>1</td>\n",
       "      <td>22</td>\n",
       "      <td>11</td>\n",
       "      <td>19</td>\n",
       "      <td>0</td>\n",
       "      <td>8</td>\n",
       "      <td>21</td>\n",
       "      <td>...</td>\n",
       "      <td>2</td>\n",
       "      <td>0</td>\n",
       "      <td>0</td>\n",
       "      <td>5</td>\n",
       "      <td>0</td>\n",
       "      <td>0</td>\n",
       "      <td>0</td>\n",
       "      <td>0</td>\n",
       "      <td>1684</td>\n",
       "      <td>centos</td>\n",
       "    </tr>\n",
       "    <tr>\n",
       "      <th>10</th>\n",
       "      <td>3</td>\n",
       "      <td>1</td>\n",
       "      <td>1</td>\n",
       "      <td>1</td>\n",
       "      <td>33</td>\n",
       "      <td>22</td>\n",
       "      <td>19</td>\n",
       "      <td>0</td>\n",
       "      <td>8</td>\n",
       "      <td>20</td>\n",
       "      <td>...</td>\n",
       "      <td>2</td>\n",
       "      <td>0</td>\n",
       "      <td>0</td>\n",
       "      <td>5</td>\n",
       "      <td>0</td>\n",
       "      <td>0</td>\n",
       "      <td>0</td>\n",
       "      <td>0</td>\n",
       "      <td>1760</td>\n",
       "      <td>centos</td>\n",
       "    </tr>\n",
       "    <tr>\n",
       "      <th>11</th>\n",
       "      <td>3</td>\n",
       "      <td>1</td>\n",
       "      <td>1</td>\n",
       "      <td>1</td>\n",
       "      <td>11</td>\n",
       "      <td>22</td>\n",
       "      <td>19</td>\n",
       "      <td>0</td>\n",
       "      <td>8</td>\n",
       "      <td>20</td>\n",
       "      <td>...</td>\n",
       "      <td>2</td>\n",
       "      <td>0</td>\n",
       "      <td>0</td>\n",
       "      <td>5</td>\n",
       "      <td>0</td>\n",
       "      <td>0</td>\n",
       "      <td>0</td>\n",
       "      <td>0</td>\n",
       "      <td>1792</td>\n",
       "      <td>centos</td>\n",
       "    </tr>\n",
       "    <tr>\n",
       "      <th>12</th>\n",
       "      <td>3</td>\n",
       "      <td>1</td>\n",
       "      <td>1</td>\n",
       "      <td>1</td>\n",
       "      <td>11</td>\n",
       "      <td>11</td>\n",
       "      <td>19</td>\n",
       "      <td>0</td>\n",
       "      <td>8</td>\n",
       "      <td>20</td>\n",
       "      <td>...</td>\n",
       "      <td>2</td>\n",
       "      <td>0</td>\n",
       "      <td>0</td>\n",
       "      <td>5</td>\n",
       "      <td>0</td>\n",
       "      <td>0</td>\n",
       "      <td>0</td>\n",
       "      <td>0</td>\n",
       "      <td>1771</td>\n",
       "      <td>centos</td>\n",
       "    </tr>\n",
       "    <tr>\n",
       "      <th>13</th>\n",
       "      <td>0</td>\n",
       "      <td>0</td>\n",
       "      <td>0</td>\n",
       "      <td>0</td>\n",
       "      <td>0</td>\n",
       "      <td>0</td>\n",
       "      <td>0</td>\n",
       "      <td>1</td>\n",
       "      <td>0</td>\n",
       "      <td>0</td>\n",
       "      <td>...</td>\n",
       "      <td>2</td>\n",
       "      <td>4</td>\n",
       "      <td>15</td>\n",
       "      <td>1</td>\n",
       "      <td>79</td>\n",
       "      <td>6</td>\n",
       "      <td>12</td>\n",
       "      <td>36</td>\n",
       "      <td>320</td>\n",
       "      <td>ubuntu</td>\n",
       "    </tr>\n",
       "    <tr>\n",
       "      <th>14</th>\n",
       "      <td>0</td>\n",
       "      <td>0</td>\n",
       "      <td>0</td>\n",
       "      <td>0</td>\n",
       "      <td>0</td>\n",
       "      <td>0</td>\n",
       "      <td>0</td>\n",
       "      <td>1</td>\n",
       "      <td>0</td>\n",
       "      <td>0</td>\n",
       "      <td>...</td>\n",
       "      <td>2</td>\n",
       "      <td>475</td>\n",
       "      <td>16</td>\n",
       "      <td>1</td>\n",
       "      <td>30</td>\n",
       "      <td>0</td>\n",
       "      <td>0</td>\n",
       "      <td>0</td>\n",
       "      <td>165</td>\n",
       "      <td>ubuntu</td>\n",
       "    </tr>\n",
       "    <tr>\n",
       "      <th>15</th>\n",
       "      <td>0</td>\n",
       "      <td>0</td>\n",
       "      <td>0</td>\n",
       "      <td>0</td>\n",
       "      <td>0</td>\n",
       "      <td>0</td>\n",
       "      <td>0</td>\n",
       "      <td>1</td>\n",
       "      <td>0</td>\n",
       "      <td>0</td>\n",
       "      <td>...</td>\n",
       "      <td>2</td>\n",
       "      <td>475</td>\n",
       "      <td>16</td>\n",
       "      <td>1</td>\n",
       "      <td>30</td>\n",
       "      <td>0</td>\n",
       "      <td>0</td>\n",
       "      <td>0</td>\n",
       "      <td>165</td>\n",
       "      <td>ubuntu</td>\n",
       "    </tr>\n",
       "    <tr>\n",
       "      <th>16</th>\n",
       "      <td>0</td>\n",
       "      <td>0</td>\n",
       "      <td>0</td>\n",
       "      <td>0</td>\n",
       "      <td>0</td>\n",
       "      <td>0</td>\n",
       "      <td>0</td>\n",
       "      <td>1</td>\n",
       "      <td>0</td>\n",
       "      <td>0</td>\n",
       "      <td>...</td>\n",
       "      <td>2</td>\n",
       "      <td>467</td>\n",
       "      <td>16</td>\n",
       "      <td>1</td>\n",
       "      <td>30</td>\n",
       "      <td>0</td>\n",
       "      <td>0</td>\n",
       "      <td>0</td>\n",
       "      <td>185</td>\n",
       "      <td>ubuntu</td>\n",
       "    </tr>\n",
       "    <tr>\n",
       "      <th>17</th>\n",
       "      <td>0</td>\n",
       "      <td>0</td>\n",
       "      <td>0</td>\n",
       "      <td>0</td>\n",
       "      <td>0</td>\n",
       "      <td>0</td>\n",
       "      <td>0</td>\n",
       "      <td>1</td>\n",
       "      <td>0</td>\n",
       "      <td>0</td>\n",
       "      <td>...</td>\n",
       "      <td>2</td>\n",
       "      <td>480</td>\n",
       "      <td>16</td>\n",
       "      <td>1</td>\n",
       "      <td>30</td>\n",
       "      <td>0</td>\n",
       "      <td>0</td>\n",
       "      <td>0</td>\n",
       "      <td>186</td>\n",
       "      <td>ubuntu</td>\n",
       "    </tr>\n",
       "    <tr>\n",
       "      <th>18</th>\n",
       "      <td>0</td>\n",
       "      <td>0</td>\n",
       "      <td>0</td>\n",
       "      <td>0</td>\n",
       "      <td>0</td>\n",
       "      <td>0</td>\n",
       "      <td>0</td>\n",
       "      <td>1</td>\n",
       "      <td>0</td>\n",
       "      <td>0</td>\n",
       "      <td>...</td>\n",
       "      <td>0</td>\n",
       "      <td>479</td>\n",
       "      <td>16</td>\n",
       "      <td>1</td>\n",
       "      <td>30</td>\n",
       "      <td>0</td>\n",
       "      <td>0</td>\n",
       "      <td>0</td>\n",
       "      <td>189</td>\n",
       "      <td>ubuntu</td>\n",
       "    </tr>\n",
       "    <tr>\n",
       "      <th>19</th>\n",
       "      <td>0</td>\n",
       "      <td>0</td>\n",
       "      <td>0</td>\n",
       "      <td>0</td>\n",
       "      <td>0</td>\n",
       "      <td>0</td>\n",
       "      <td>0</td>\n",
       "      <td>1</td>\n",
       "      <td>0</td>\n",
       "      <td>0</td>\n",
       "      <td>...</td>\n",
       "      <td>0</td>\n",
       "      <td>579</td>\n",
       "      <td>19</td>\n",
       "      <td>1</td>\n",
       "      <td>87</td>\n",
       "      <td>3</td>\n",
       "      <td>14</td>\n",
       "      <td>0</td>\n",
       "      <td>250</td>\n",
       "      <td>ubuntu</td>\n",
       "    </tr>\n",
       "  </tbody>\n",
       "</table>\n",
       "<p>20 rows × 48 columns</p>\n",
       "</div>"
      ],
      "text/plain": [
       "    RPM-GPG-KEY-CentOS  CentOS-Debuginfo.repo  CentOS-Media.repo  \\\n",
       "0                    1                      1                  1   \n",
       "1                    1                      1                  1   \n",
       "2                    4                      1                  1   \n",
       "3                    4                      1                  1   \n",
       "4                    4                      1                  1   \n",
       "5                    4                      1                  1   \n",
       "6                    4                      1                  1   \n",
       "7                    3                      1                  0   \n",
       "8                    3                      1                  0   \n",
       "9                    3                      1                  1   \n",
       "10                   3                      1                  1   \n",
       "11                   3                      1                  1   \n",
       "12                   3                      1                  1   \n",
       "13                   0                      0                  0   \n",
       "14                   0                      0                  0   \n",
       "15                   0                      0                  0   \n",
       "16                   0                      0                  0   \n",
       "17                   0                      0                  0   \n",
       "18                   0                      0                  0   \n",
       "19                   0                      0                  0   \n",
       "\n",
       "    CentOS-fasttrack.repo  centos-x86_64  centos-noarch  centos-release  \\\n",
       "0                       1             48             32              18   \n",
       "1                       1             48             32              18   \n",
       "2                       1              9             18              13   \n",
       "3                       1              0              0               4   \n",
       "4                       1              0              9              13   \n",
       "5                       1             18              9              13   \n",
       "6                       1             18              9              13   \n",
       "7                       0              0             26              16   \n",
       "8                       1              0             26              15   \n",
       "9                       1             22             11              19   \n",
       "10                      1             33             22              19   \n",
       "11                      1             11             22              19   \n",
       "12                      1             11             11              19   \n",
       "13                      0              0              0               0   \n",
       "14                      0              0              0               0   \n",
       "15                      0              0              0               0   \n",
       "16                      0              0              0               0   \n",
       "17                      0              0              0               0   \n",
       "18                      0              0              0               0   \n",
       "19                      0              0              0               0   \n",
       "\n",
       "    /etc/mke2fs.conf  /etc/yum.repos.d  /etc/yum   ...     libgthread  \\\n",
       "0                  1                 8        12   ...              2   \n",
       "1                  1                 8        12   ...              2   \n",
       "2                  0                 6        14   ...              2   \n",
       "3                  0                 6        14   ...              2   \n",
       "4                  0                 6        15   ...              2   \n",
       "5                  0                 6        15   ...              2   \n",
       "6                  0                 6        15   ...              2   \n",
       "7                  0                 5        15   ...              2   \n",
       "8                  0                 7        18   ...              2   \n",
       "9                  0                 8        21   ...              2   \n",
       "10                 0                 8        20   ...              2   \n",
       "11                 0                 8        20   ...              2   \n",
       "12                 0                 8        20   ...              2   \n",
       "13                 1                 0         0   ...              2   \n",
       "14                 1                 0         0   ...              2   \n",
       "15                 1                 0         0   ...              2   \n",
       "16                 1                 0         0   ...              2   \n",
       "17                 1                 0         0   ...              2   \n",
       "18                 1                 0         0   ...              0   \n",
       "19                 1                 0         0   ...              0   \n",
       "\n",
       "    x86_64-linux-gnu  /usr/lib/apt/  pam_unix  debconf  apt-utils  ntpdate  \\\n",
       "0                  0              0         5        0          0        0   \n",
       "1                  0              0         5        0          0        0   \n",
       "2                  0              0         5        0          0        0   \n",
       "3                  0              0         5        0          0        0   \n",
       "4                  0              0         5        0          0        0   \n",
       "5                  0              0         5        0          0        0   \n",
       "6                  0              0         5        0          0        0   \n",
       "7                  0              0         5        0          0        0   \n",
       "8                  0              0         5        0          0        0   \n",
       "9                  0              0         5        0          0        0   \n",
       "10                 0              0         5        0          0        0   \n",
       "11                 0              0         5        0          0        0   \n",
       "12                 0              0         5        0          0        0   \n",
       "13                 4             15         1       79          6       12   \n",
       "14               475             16         1       30          0        0   \n",
       "15               475             16         1       30          0        0   \n",
       "16               467             16         1       30          0        0   \n",
       "17               480             16         1       30          0        0   \n",
       "18               479             16         1       30          0        0   \n",
       "19               579             19         1       87          3       14   \n",
       "\n",
       "    tasksel  Package+apt  OS_type  \n",
       "0         0         1071   centos  \n",
       "1         0         1071   centos  \n",
       "2         0         1399   centos  \n",
       "3         0          159   centos  \n",
       "4         0         1408   centos  \n",
       "5         0         1408   centos  \n",
       "6         0         1390   centos  \n",
       "7         0         1413   centos  \n",
       "8         0         1416   centos  \n",
       "9         0         1684   centos  \n",
       "10        0         1760   centos  \n",
       "11        0         1792   centos  \n",
       "12        0         1771   centos  \n",
       "13       36          320   ubuntu  \n",
       "14        0          165   ubuntu  \n",
       "15        0          165   ubuntu  \n",
       "16        0          185   ubuntu  \n",
       "17        0          186   ubuntu  \n",
       "18        0          189   ubuntu  \n",
       "19        0          250   ubuntu  \n",
       "\n",
       "[20 rows x 48 columns]"
      ]
     },
     "execution_count": 5,
     "metadata": {},
     "output_type": "execute_result"
    }
   ],
   "source": [
    "#Printing the dataframe\n",
    "df.head(20)"
   ]
  },
  {
   "cell_type": "code",
   "execution_count": 6,
   "metadata": {
    "collapsed": true
   },
   "outputs": [],
   "source": [
    "#Save the dataframe into csv file\n",
    "df.to_csv('ubuntu_centos_classification.csv', sep=',',encoding='utf-8', index=False)"
   ]
  },
  {
   "cell_type": "code",
   "execution_count": 7,
   "metadata": {
    "scrolled": true
   },
   "outputs": [
    {
     "name": "stdout",
     "output_type": "stream",
     "text": [
      "Number of lines in file for centos: 17304\n",
      "Number of lines in file for centos: 17325\n",
      "Number of lines in file for centos: 11078\n",
      "Number of lines in file for centos: 8958\n",
      "Number of lines in file for centos: 10417\n",
      "Number of lines in file for centos: 10431\n",
      "Number of lines in file for centos: 10393\n",
      "Number of lines in file for centos: 10732\n",
      "Number of lines in file for centos: 10783\n",
      "Number of lines in file for centos: 9559\n",
      "Number of lines in file for centos: 9927\n",
      "Number of lines in file for centos: 10005\n",
      "Number of lines in file for centos: 9963\n",
      "Number of lines in file for ubuntu: 8611\n",
      "Number of lines in file for ubuntu: 6665\n",
      "Number of lines in file for ubuntu: 6665\n",
      "Number of lines in file for ubuntu: 6622\n",
      "Number of lines in file for ubuntu: 6481\n",
      "Number of lines in file for ubuntu: 6367\n",
      "Number of lines in file for ubuntu: 10329\n",
      "Number of lines in file for ubuntu: 10344\n",
      "Number of lines in file for ubuntu: 10346\n",
      "Number of lines in file for ubuntu: 10355\n",
      "Number of lines in file for ubuntu: 10369\n",
      "Number of lines in file for ubuntu: 10371\n",
      "Number of lines in file for ubuntu: 6189\n",
      "Number of lines in file for ubuntu: 3632\n",
      "Number of lines in file for ubuntu: 5473\n",
      "Number of lines in file for ubuntu: 3034\n",
      "Number of lines in file for ubuntu: 3093\n",
      "Number of lines in file for ubuntu: 3020\n"
     ]
    }
   ],
   "source": [
    "#Creating a dictorinay that holds the ASCII value of all the characters of the file collected by crawler\n",
    "Ascii_dictionary = {}\n",
    "\n",
    "#Processing for the centos container\n",
    "filecounter = 0\n",
    "for metric_file in file_name:\n",
    "    if metric_file.startswith('c') and metric_file.endswith('0'):\n",
    "        filecounter=filecounter+1\n",
    "        #print '****************',metric_file,'*************************'\n",
    "        fp = open(metric_file, \"r\")\n",
    "        line_holder=[]\n",
    "        for line in fp:\n",
    "            ascii_val = [ord(c) for c in list(str(line))]    \n",
    "            line_holder.append(ascii_val)\n",
    "        Ascii_dictionary['file_centos_{0}'.format(filecounter)] = line_holder   \n",
    "        print \"Number of lines in file for centos:\",len(line_holder)\n",
    "\n",
    "#Processing for the ubuntu container\n",
    "filecounter = 0\n",
    "for metric_file in file_name:\n",
    "    if metric_file.startswith('u') and metric_file.endswith('0'):\n",
    "        filecounter=filecounter+1\n",
    "        #print '****************',metric_file,'*************************'\n",
    "        fp = open(metric_file, \"r\")\n",
    "        line_holder=[]\n",
    "        for line in fp:\n",
    "            ascii_val = [ord(c) for c in list(str(line))]    \n",
    "            line_holder.append(ascii_val)\n",
    "        Ascii_dictionary['file_ubuntu_{0}'.format(filecounter)] = line_holder   \n",
    "        print \"Number of lines in file for ubuntu:\",len(line_holder)\n",
    "   "
   ]
  },
  {
   "cell_type": "code",
   "execution_count": 8,
   "metadata": {},
   "outputs": [
    {
     "name": "stdout",
     "output_type": "stream",
     "text": [
      "Maximum length of the line among all the files is: 648\n"
     ]
    }
   ],
   "source": [
    "#Finding the maximum length of line from all the collected files\n",
    "Ascii_dictionary_keys = sorted(Ascii_dictionary.keys())\n",
    "lines_length = []\n",
    "\n",
    "for dict_key in Ascii_dictionary_keys:\n",
    "    for i in range(len(Ascii_dictionary[dict_key])):\n",
    "        lines_length.append(len(Ascii_dictionary[dict_key][i]))\n",
    "    \n",
    "maximum_length_line = max(lines_length)\n",
    "print \"Maximum length of the line among all the files is:\",maximum_length_line"
   ]
  },
  {
   "cell_type": "code",
   "execution_count": 9,
   "metadata": {},
   "outputs": [
    {
     "name": "stdout",
     "output_type": "stream",
     "text": [
      "shape of the file_centos_1 image is: (17304L, 648L)\n",
      "shape of the file_centos_10 image is: (9559L, 648L)\n",
      "shape of the file_centos_11 image is: (9927L, 648L)\n",
      "shape of the file_centos_12 image is: (10005L, 648L)\n",
      "shape of the file_centos_13 image is: (9963L, 648L)\n",
      "shape of the file_centos_2 image is: (17325L, 648L)\n",
      "shape of the file_centos_3 image is: (11078L, 648L)\n",
      "shape of the file_centos_4 image is: (8958L, 648L)\n",
      "shape of the file_centos_5 image is: (10417L, 648L)\n",
      "shape of the file_centos_6 image is: (10431L, 648L)\n",
      "shape of the file_centos_7 image is: (10393L, 648L)\n",
      "shape of the file_centos_8 image is: (10732L, 648L)\n",
      "shape of the file_centos_9 image is: (10783L, 648L)\n",
      "shape of the file_ubuntu_1 image is: (8611L, 648L)\n",
      "shape of the file_ubuntu_10 image is: (10355L, 648L)\n",
      "shape of the file_ubuntu_11 image is: (10369L, 648L)\n",
      "shape of the file_ubuntu_12 image is: (10371L, 648L)\n",
      "shape of the file_ubuntu_13 image is: (6189L, 648L)\n",
      "shape of the file_ubuntu_14 image is: (3632L, 648L)\n",
      "shape of the file_ubuntu_15 image is: (5473L, 648L)\n",
      "shape of the file_ubuntu_16 image is: (3034L, 648L)\n",
      "shape of the file_ubuntu_17 image is: (3093L, 648L)\n",
      "shape of the file_ubuntu_18 image is: (3020L, 648L)\n",
      "shape of the file_ubuntu_2 image is: (6665L, 648L)\n",
      "shape of the file_ubuntu_3 image is: (6665L, 648L)\n",
      "shape of the file_ubuntu_4 image is: (6622L, 648L)\n",
      "shape of the file_ubuntu_5 image is: (6481L, 648L)\n",
      "shape of the file_ubuntu_6 image is: (6367L, 648L)\n",
      "shape of the file_ubuntu_7 image is: (10329L, 648L)\n",
      "shape of the file_ubuntu_8 image is: (10344L, 648L)\n",
      "shape of the file_ubuntu_9 image is: (10346L, 648L)\n"
     ]
    }
   ],
   "source": [
    "#Fill the line to make them equal length\n",
    "Image_ubunut_centos_dictionary = {}\n",
    "\n",
    "class MyList(list):\n",
    "    def ljust(self, n, fillvalue=255):\n",
    "        return self + [fillvalue] * (n - len(self))\n",
    "\n",
    "for dict_key in Ascii_dictionary_keys:\n",
    "    Image_pixel_save=[]\n",
    "    for i in range(len(Ascii_dictionary[dict_key])):    \n",
    "        a = MyList(Ascii_dictionary[dict_key][i])\n",
    "        b = a.ljust(maximum_length_line)\n",
    "        Image_pixel_save.append(b)\n",
    "    Image_ubunut_centos_dictionary['pixel_{0}'.format(dict_key)] = Image_pixel_save \n",
    "    print \"shape of the {0} image is: {1}\".format(dict_key,np.asarray(Image_pixel_save).shape)"
   ]
  },
  {
   "cell_type": "code",
   "execution_count": 10,
   "metadata": {},
   "outputs": [
    {
     "name": "stdout",
     "output_type": "stream",
     "text": [
      "Maximum number of lines among all the files is: 17325\n"
     ]
    }
   ],
   "source": [
    "#Finding the maximum length of file (maximum number of lines) from all the collected files\n",
    "Image_ubunut_centos_dictionary_key = sorted(Image_ubunut_centos_dictionary.keys())\n",
    "pixel_files_length = []\n",
    "\n",
    "for dict_key in Image_ubunut_centos_dictionary_key:\n",
    "    pixel_files_length.append(len(Image_ubunut_centos_dictionary[dict_key]))\n",
    "    \n",
    "maximum_pixel_files_length = max(pixel_files_length)\n",
    "print \"Maximum number of lines among all the files is:\",maximum_pixel_files_length"
   ]
  },
  {
   "cell_type": "code",
   "execution_count": 11,
   "metadata": {},
   "outputs": [
    {
     "name": "stdout",
     "output_type": "stream",
     "text": [
      "shape of the pixel_file_centos_1 image is: (17325L, 648L)\n",
      "shape of the pixel_file_centos_10 image is: (17325L, 648L)\n",
      "shape of the pixel_file_centos_11 image is: (17325L, 648L)\n",
      "shape of the pixel_file_centos_12 image is: (17325L, 648L)\n",
      "shape of the pixel_file_centos_13 image is: (17325L, 648L)\n",
      "shape of the pixel_file_centos_2 image is: (17325L, 648L)\n",
      "shape of the pixel_file_centos_3 image is: (17325L, 648L)\n",
      "shape of the pixel_file_centos_4 image is: (17325L, 648L)\n",
      "shape of the pixel_file_centos_5 image is: (17325L, 648L)\n",
      "shape of the pixel_file_centos_6 image is: (17325L, 648L)\n",
      "shape of the pixel_file_centos_7 image is: (17325L, 648L)\n",
      "shape of the pixel_file_centos_8 image is: (17325L, 648L)\n",
      "shape of the pixel_file_centos_9 image is: (17325L, 648L)\n",
      "shape of the pixel_file_ubuntu_1 image is: (17325L, 648L)\n",
      "shape of the pixel_file_ubuntu_10 image is: (17325L, 648L)\n",
      "shape of the pixel_file_ubuntu_11 image is: (17325L, 648L)\n",
      "shape of the pixel_file_ubuntu_12 image is: (17325L, 648L)\n",
      "shape of the pixel_file_ubuntu_13 image is: (17325L, 648L)\n",
      "shape of the pixel_file_ubuntu_14 image is: (17325L, 648L)\n",
      "shape of the pixel_file_ubuntu_15 image is: (17325L, 648L)\n",
      "shape of the pixel_file_ubuntu_16 image is: (17325L, 648L)\n",
      "shape of the pixel_file_ubuntu_17 image is: (17325L, 648L)\n",
      "shape of the pixel_file_ubuntu_18 image is: (17325L, 648L)\n",
      "shape of the pixel_file_ubuntu_2 image is: (17325L, 648L)\n",
      "shape of the pixel_file_ubuntu_3 image is: (17325L, 648L)\n",
      "shape of the pixel_file_ubuntu_4 image is: (17325L, 648L)\n",
      "shape of the pixel_file_ubuntu_5 image is: (17325L, 648L)\n",
      "shape of the pixel_file_ubuntu_6 image is: (17325L, 648L)\n",
      "shape of the pixel_file_ubuntu_7 image is: (17325L, 648L)\n",
      "shape of the pixel_file_ubuntu_8 image is: (17325L, 648L)\n",
      "shape of the pixel_file_ubuntu_9 image is: (17325L, 648L)\n"
     ]
    }
   ],
   "source": [
    "#Pad the file so that all the files have equal number of lines. \n",
    "#Doig this make all the images of equal size (pixel)\n",
    "def pixel_padding(given_list, maximum_length_line, n, fillvalue=255):\n",
    "    filled_list = [fillvalue] * maximum_length_line\n",
    "    for steps in range(n - len(given_list)):\n",
    "        given_list.append(filled_list)\n",
    "    return given_list\n",
    "\n",
    "for dict_key in Image_ubunut_centos_dictionary_key:\n",
    "    Image_ubunut_centos_dictionary[dict_key] = pixel_padding(Image_ubunut_centos_dictionary[dict_key],maximum_length_line, maximum_pixel_files_length)\n",
    "    print \"shape of the {0} image is: {1}\".format(dict_key,np.asarray(Image_ubunut_centos_dictionary[dict_key]).shape)"
   ]
  },
  {
   "cell_type": "code",
   "execution_count": 27,
   "metadata": {
    "scrolled": true
   },
   "outputs": [
    {
     "data": {
      "image/png": "[encoded data removed]",
      "text/plain": [
       "<matplotlib.figure.Figure at 0x9a9ac550>"
      ]
     },
     "metadata": {},
     "output_type": "display_data"
    },
    {
     "data": {
      "image/png": "[encoded data removed]",
      "text/plain": [
       "<matplotlib.figure.Figure at 0x99ddaa20>"
      ]
     },
     "metadata": {},
     "output_type": "display_data"
    },
    {
     "data": {
      "image/png": "[encoded data removed]",
      "text/plain": [
       "<matplotlib.figure.Figure at 0x99a8e7f0>"
      ]
     },
     "metadata": {},
     "output_type": "display_data"
    },
    {
     "data": {
      "image/png": "[encoded data removed]",
      "text/plain": [
       "<matplotlib.figure.Figure at 0x96301eb8>"
      ]
     },
     "metadata": {},
     "output_type": "display_data"
    },
    {
     "data": {
      "image/png": "[encoded data removed]",
      "text/plain": [
       "<matplotlib.figure.Figure at 0x9489a898>"
      ]
     },
     "metadata": {},
     "output_type": "display_data"
    },
    {
     "data": {
      "image/png": "[encoded data removed]",
      "text/plain": [
       "<matplotlib.figure.Figure at 0x99a8e240>"
      ]
     },
     "metadata": {},
     "output_type": "display_data"
    },
    {
     "data": {
      "image/png": "[encoded data removed]",
      "text/plain": [
       "<matplotlib.figure.Figure at 0x94888780>"
      ]
     },
     "metadata": {},
     "output_type": "display_data"
    },
    {
     "data": {
      "image/png": "[encoded data removed]",
      "text/plain": [
       "<matplotlib.figure.Figure at 0x94888550>"
      ]
     },
     "metadata": {},
     "output_type": "display_data"
    },
    {
     "data": {
      "image/png": "[encoded data removed]",
      "text/plain": [
       "<matplotlib.figure.Figure at 0x9a158ac8>"
      ]
     },
     "metadata": {},
     "output_type": "display_data"
    },
    {
     "data": {
      "image/png": "[encoded data removed]",
      "text/plain": [
       "<matplotlib.figure.Figure at 0x9b3afb00>"
      ]
     },
     "metadata": {},
     "output_type": "display_data"
    },
    {
     "data": {
      "image/png": "[encoded data removed]",
      "text/plain": [
       "<matplotlib.figure.Figure at 0x943aa470>"
      ]
     },
     "metadata": {},
     "output_type": "display_data"
    },
    {
     "data": {
      "image/png": "[encoded data removed]",
      "text/plain": [
       "<matplotlib.figure.Figure at 0x9445d320>"
      ]
     },
     "metadata": {},
     "output_type": "display_data"
    },
    {
     "data": {
      "image/png": "[encoded data removed]",
      "text/plain": [
       "<matplotlib.figure.Figure at 0x948ae1d0>"
      ]
     },
     "metadata": {},
     "output_type": "display_data"
    },
    {
     "data": {
      "image/png": "[encoded data removed]",
      "text/plain": [
       "<matplotlib.figure.Figure at 0x96648f28>"
      ]
     },
     "metadata": {},
     "output_type": "display_data"
    },
    {
     "data": {
      "image/png": "[encoded data removed]",
      "text/plain": [
       "<matplotlib.figure.Figure at 0x95e2cef0>"
      ]
     },
     "metadata": {},
     "output_type": "display_data"
    },
    {
     "data": {
      "image/png": "[encoded data removed]",
      "text/plain": [
       "<matplotlib.figure.Figure at 0x99f46a20>"
      ]
     },
     "metadata": {},
     "output_type": "display_data"
    },
    {
     "data": {
      "image/png": "[encoded data removed]",
      "text/plain": [
       "<matplotlib.figure.Figure at 0x9628a748>"
      ]
     },
     "metadata": {},
     "output_type": "display_data"
    },
    {
     "data": {
      "image/png": "[encoded data removed]",
      "text/plain": [
       "<matplotlib.figure.Figure at 0x9b3d2780>"
      ]
     },
     "metadata": {},
     "output_type": "display_data"
    },
    {
     "data": {
      "image/png": "[encoded data removed]",
      "text/plain": [
       "<matplotlib.figure.Figure at 0x96297780>"
      ]
     },
     "metadata": {},
     "output_type": "display_data"
    },
    {
     "data": {
      "image/png": "[encoded data removed]",
      "text/plain": [
       "<matplotlib.figure.Figure at 0x96297550>"
      ]
     },
     "metadata": {},
     "output_type": "display_data"
    },
    {
     "data": {
      "image/png": "[encoded data removed]",
      "text/plain": [
       "<matplotlib.figure.Figure at 0x95da8ac8>"
      ]
     },
     "metadata": {},
     "output_type": "display_data"
    },
    {
     "data": {
      "image/png": "[encoded data removed]",
      "text/plain": [
       "<matplotlib.figure.Figure at 0xf353a128>"
      ]
     },
     "metadata": {},
     "output_type": "display_data"
    },
    {
     "data": {
      "image/png": "[encoded data removed]",
      "text/plain": [
       "<matplotlib.figure.Figure at 0x99d352b0>"
      ]
     },
     "metadata": {},
     "output_type": "display_data"
    },
    {
     "data": {
      "image/png": "[encoded data removed]",
      "text/plain": [
       "<matplotlib.figure.Figure at 0x94fdb320>"
      ]
     },
     "metadata": {},
     "output_type": "display_data"
    },
    {
     "data": {
      "image/png": "[encoded data removed]",
      "text/plain": [
       "<matplotlib.figure.Figure at 0x962821d0>"
      ]
     },
     "metadata": {},
     "output_type": "display_data"
    },
    {
     "data": {
      "image/png": "[encoded data removed]",
      "text/plain": [
       "<matplotlib.figure.Figure at 0xf372df28>"
      ]
     },
     "metadata": {},
     "output_type": "display_data"
    },
    {
     "data": {
      "image/png": "[encoded data removed]",
      "text/plain": [
       "<matplotlib.figure.Figure at 0x9574aef0>"
      ]
     },
     "metadata": {},
     "output_type": "display_data"
    },
    {
     "data": {
      "image/png": "[encoded data removed]",
      "text/plain": [
       "<matplotlib.figure.Figure at 0x95a34a20>"
      ]
     },
     "metadata": {},
     "output_type": "display_data"
    },
    {
     "data": {
      "image/png": "[encoded data removed]",
      "text/plain": [
       "<matplotlib.figure.Figure at 0xf35da748>"
      ]
     },
     "metadata": {},
     "output_type": "display_data"
    },
    {
     "data": {
      "image/png": "[encoded data removed]",
      "text/plain": [
       "<matplotlib.figure.Figure at 0xf3570780>"
      ]
     },
     "metadata": {},
     "output_type": "display_data"
    },
    {
     "data": {
      "image/png": "[encoded data removed]",
      "text/plain": [
       "<matplotlib.figure.Figure at 0xf35f0780>"
      ]
     },
     "metadata": {},
     "output_type": "display_data"
    }
   ],
   "source": [
    "#Plotting the image\n",
    "import matplotlib.pyplot as plt\n",
    "import matplotlib.cm as cm\n",
    "\n",
    "#plt.imsave('dummy_image.png', np.array(Image_ubunut_centos_dictionary[Image_ubunut_centos_dictionary_key[2]]), cmap=cm.gray)\n",
    "\n",
    "for dict_key in Image_ubunut_centos_dictionary_key:\n",
    "    #print dict_key\n",
    "    plt.imsave(dict_key+'.png', np.array(Image_ubunut_centos_dictionary[Image_ubunut_centos_dictionary_key[2]]), cmap=cm.Accent)\n",
    "    plt.imshow(np.array(Image_ubunut_centos_dictionary[dict_key]).T,cmap=cm.Accent)\n",
    "    plt.title(dict_key)\n",
    "    plt.show()\n"
   ]
  },
  {
   "cell_type": "code",
   "execution_count": null,
   "metadata": {
    "collapsed": true
   },
   "outputs": [],
   "source": []
  }
 ],
 "metadata": {
  "kernelspec": {
   "display_name": "Python 2",
   "language": "python",
   "name": "python2"
  },
  "language_info": {
   "codemirror_mode": {
    "name": "ipython",
    "version": 2
   },
   "file_extension": ".py",
   "mimetype": "text/x-python",
   "name": "python",
   "nbconvert_exporter": "python",
   "pygments_lexer": "ipython2",
   "version": "2.7.14"
  }
 },
 "nbformat": 4,
 "nbformat_minor": 2
}
