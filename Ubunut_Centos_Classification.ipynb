{
 "cells": [
  {
   "cell_type": "code",
   "execution_count": 6,
   "metadata": {},
   "outputs": [
    {
     "name": "stdout",
     "output_type": "stream",
     "text": [
      "Reading csv file.\n",
      "(21, 47) (10, 47) (21,) (10,)\n"
     ]
    }
   ],
   "source": [
    "import pandas as pd\n",
    "import numpy as np\n",
    "import csv\n",
    "\n",
    "print \"Reading csv file.\"\n",
    "df = pd.read_csv(\"ubuntu_centos_classification.csv\")\n",
    "\n",
    "Y= df['OS_type']\n",
    "X = df.values[:,:-1]\n",
    "\n",
    "for j in range(0,X.shape[1]):\n",
    "    maximum = max(X[:,j]) if max(X[:,j]) !=0 else 1 \n",
    "    for i in range(0,len(X)):\n",
    "        X[i,j] = round(X[i,j]/maximum,3)\n",
    "\n",
    "from sklearn.model_selection import train_test_split\n",
    "X_train, X_test, Y_train, Y_test = train_test_split(X, Y, test_size=0.3, random_state=42)\n",
    "print X_train.shape, X_test.shape, Y_train.shape, Y_test.shape\n",
    "\n",
    "cleanup_nums = {\"centos\":0, \"ubuntu\":1}\n",
    "Y_train.replace(cleanup_nums,inplace=True)\n",
    "Y_test.replace(cleanup_nums,inplace=True)"
   ]
  },
  {
   "cell_type": "code",
   "execution_count": 13,
   "metadata": {},
   "outputs": [
    {
     "name": "stdout",
     "output_type": "stream",
     "text": [
      "_________________________________________________________________\n",
      "Layer (type)                 Output Shape              Param #   \n",
      "=================================================================\n",
      "dense_35 (Dense)             (None, 47)                2256      \n",
      "_________________________________________________________________\n",
      "dense_36 (Dense)             (None, 1)                 48        \n",
      "=================================================================\n",
      "Total params: 2,304\n",
      "Trainable params: 2,304\n",
      "Non-trainable params: 0\n",
      "_________________________________________________________________\n",
      "Train Results: 95.00% (5.00%)\n",
      "Test Results: 80.00% (20.00%)\n"
     ]
    }
   ],
   "source": [
    "from keras.models import Sequential\n",
    "from keras.layers import Dense\n",
    "from keras.wrappers.scikit_learn import KerasClassifier\n",
    "from sklearn.model_selection import cross_val_score\n",
    "from sklearn.preprocessing import LabelEncoder\n",
    "from sklearn.model_selection import StratifiedKFold\n",
    "from sklearn.preprocessing import StandardScaler\n",
    "\n",
    "from sklearn.pipeline import Pipeline\n",
    "# fix random seed for reproducibility\n",
    "seed = 7\n",
    "np.random.seed(seed)\n",
    "\n",
    "# Model for binary classification\n",
    "def create_baseline():\n",
    "    # create model\n",
    "    model = Sequential()\n",
    "    model.add(Dense(47, input_dim=47, kernel_initializer='random_uniform', activation='relu'))\n",
    "    model.add(Dense(1, kernel_initializer='random_uniform', activation='sigmoid'))\n",
    "    # Compile model\n",
    "    model.compile(loss='binary_crossentropy', optimizer='adam', metrics=['accuracy'])\n",
    "    return model\n",
    "\n",
    "model = create_baseline()\n",
    "model.summary()\n",
    "estimator = KerasClassifier(build_fn=create_baseline, batch_size=100, verbose=0)\n",
    "kfold = StratifiedKFold(n_splits=2, shuffle=True, random_state=seed)\n",
    "results = cross_val_score(estimator, X_train, Y_train, cv=kfold)\n",
    "print(\"Train Results: %.2f%% (%.2f%%)\" % (results.mean()*100, results.std()*100))\n",
    "\n",
    "results = cross_val_score(estimator, X_test, Y_test, cv=kfold)\n",
    "print(\"Test Results: %.2f%% (%.2f%%)\" % (results.mean()*100, results.std()*100))"
   ]
  },
  {
   "cell_type": "code",
   "execution_count": null,
   "metadata": {
    "collapsed": true
   },
   "outputs": [],
   "source": []
  }
 ],
 "metadata": {
  "kernelspec": {
   "display_name": "Python 2",
   "language": "python",
   "name": "python2"
  },
  "language_info": {
   "codemirror_mode": {
    "name": "ipython",
    "version": 2
   },
   "file_extension": ".py",
   "mimetype": "text/x-python",
   "name": "python",
   "nbconvert_exporter": "python",
   "pygments_lexer": "ipython2",
   "version": "2.7.13"
  }
 },
 "nbformat": 4,
 "nbformat_minor": 2
}
