{
 "cells": [
  {
   "cell_type": "code",
   "execution_count": 5,
   "metadata": {},
   "outputs": [
    {
     "name": "stdout",
     "output_type": "stream",
     "text": [
      "['app1.eb5ed34a5440.0', 'app10.4b31277ca80d.0', 'app2.6f96f5d73e65.0', 'app3.1870fd66a799.0', 'app4.bd75efc968fa.0', 'app5.b654d26faadd.0', 'app6.5e83424dc6be.0', 'app7.09db4fb23005.0', 'app8.705104c8c7fa.0', 'app9.e740a897183b.0']\n"
     ]
    }
   ],
   "source": [
    "import os\n",
    "import numpy as np\n",
    "path=\"C:/Users/rkarn/Desktop/Research Materials/Cloud Project/IBM Internship 2018/Work\\Working with Crawler/Crawler_Exercise/Crawler Collected Metrics from Same Ubuntu version\"\n",
    "os.chdir(path)\n",
    "file_name = os.listdir(os.getcwd())\n",
    "\n",
    "print file_name"
   ]
  },
  {
   "cell_type": "code",
   "execution_count": 9,
   "metadata": {},
   "outputs": [
    {
     "name": "stdout",
     "output_type": "stream",
     "text": [
      "For 'metric' # of records in app1.eb5ed34a5440.0 : 3\n",
      "For 'metric' # of records in app10.4b31277ca80d.0 : 3\n",
      "For 'metric' # of records in app2.6f96f5d73e65.0 : 3\n",
      "For 'metric' # of records in app3.1870fd66a799.0 : 3\n",
      "For 'metric' # of records in app4.bd75efc968fa.0 : 3\n",
      "For 'metric' # of records in app5.b654d26faadd.0 : 3\n",
      "For 'metric' # of records in app6.5e83424dc6be.0 : 6\n",
      "For 'metric' # of records in app7.09db4fb23005.0 : 5\n",
      "For 'metric' # of records in app8.705104c8c7fa.0 : 3\n",
      "For 'metric' # of records in app9.e740a897183b.0 : 3\n",
      "For 'connection' # of records in app1.eb5ed34a5440.0 : 0\n",
      "For 'connection' # of records in app10.4b31277ca80d.0 : 0\n",
      "For 'connection' # of records in app2.6f96f5d73e65.0 : 0\n",
      "For 'connection' # of records in app3.1870fd66a799.0 : 0\n",
      "For 'connection' # of records in app4.bd75efc968fa.0 : 0\n",
      "For 'connection' # of records in app5.b654d26faadd.0 : 0\n",
      "For 'connection' # of records in app6.5e83424dc6be.0 : 3\n",
      "For 'connection' # of records in app7.09db4fb23005.0 : 1\n",
      "For 'connection' # of records in app8.705104c8c7fa.0 : 0\n",
      "For 'connection' # of records in app9.e740a897183b.0 : 0\n",
      "For 'process' # of records in app1.eb5ed34a5440.0 : 3\n",
      "For 'process' # of records in app10.4b31277ca80d.0 : 3\n",
      "For 'process' # of records in app2.6f96f5d73e65.0 : 3\n",
      "For 'process' # of records in app3.1870fd66a799.0 : 3\n",
      "For 'process' # of records in app4.bd75efc968fa.0 : 3\n",
      "For 'process' # of records in app5.b654d26faadd.0 : 3\n",
      "For 'process' # of records in app6.5e83424dc6be.0 : 6\n",
      "For 'process' # of records in app7.09db4fb23005.0 : 5\n",
      "For 'process' # of records in app8.705104c8c7fa.0 : 3\n",
      "For 'process' # of records in app9.e740a897183b.0 : 3\n",
      "For 'cpu' # of records in app1.eb5ed34a5440.0 : 1\n",
      "For 'cpu' # of records in app10.4b31277ca80d.0 : 1\n",
      "For 'cpu' # of records in app2.6f96f5d73e65.0 : 1\n",
      "For 'cpu' # of records in app3.1870fd66a799.0 : 1\n",
      "For 'cpu' # of records in app4.bd75efc968fa.0 : 1\n",
      "For 'cpu' # of records in app5.b654d26faadd.0 : 1\n",
      "For 'cpu' # of records in app6.5e83424dc6be.0 : 1\n",
      "For 'cpu' # of records in app7.09db4fb23005.0 : 1\n",
      "For 'cpu' # of records in app8.705104c8c7fa.0 : 1\n",
      "For 'cpu' # of records in app9.e740a897183b.0 : 1\n",
      "For 'disk' # of records in app1.eb5ed34a5440.0 : 34\n",
      "For 'disk' # of records in app10.4b31277ca80d.0 : 34\n",
      "For 'disk' # of records in app2.6f96f5d73e65.0 : 34\n",
      "For 'disk' # of records in app3.1870fd66a799.0 : 34\n",
      "For 'disk' # of records in app4.bd75efc968fa.0 : 34\n",
      "For 'disk' # of records in app5.b654d26faadd.0 : 34\n",
      "For 'disk' # of records in app6.5e83424dc6be.0 : 34\n",
      "For 'disk' # of records in app7.09db4fb23005.0 : 34\n",
      "For 'disk' # of records in app8.705104c8c7fa.0 : 34\n",
      "For 'disk' # of records in app9.e740a897183b.0 : 34\n",
      "For 'package' # of records in app1.eb5ed34a5440.0 : 89\n",
      "For 'package' # of records in app10.4b31277ca80d.0 : 107\n",
      "For 'package' # of records in app2.6f96f5d73e65.0 : 108\n",
      "For 'package' # of records in app3.1870fd66a799.0 : 119\n",
      "For 'package' # of records in app4.bd75efc968fa.0 : 342\n",
      "For 'package' # of records in app5.b654d26faadd.0 : 106\n",
      "For 'package' # of records in app6.5e83424dc6be.0 : 131\n",
      "For 'package' # of records in app7.09db4fb23005.0 : 120\n",
      "For 'package' # of records in app8.705104c8c7fa.0 : 146\n",
      "For 'package' # of records in app9.e740a897183b.0 : 103\n",
      "For 'config' # of records in app1.eb5ed34a5440.0 : 6\n",
      "For 'config' # of records in app10.4b31277ca80d.0 : 6\n",
      "For 'config' # of records in app2.6f96f5d73e65.0 : 6\n",
      "For 'config' # of records in app3.1870fd66a799.0 : 6\n",
      "For 'config' # of records in app4.bd75efc968fa.0 : 6\n",
      "For 'config' # of records in app5.b654d26faadd.0 : 6\n",
      "For 'config' # of records in app6.5e83424dc6be.0 : 9\n",
      "For 'config' # of records in app7.09db4fb23005.0 : 7\n",
      "For 'config' # of records in app8.705104c8c7fa.0 : 9\n",
      "For 'config' # of records in app9.e740a897183b.0 : 6\n"
     ]
    }
   ],
   "source": [
    "#Creating a dictorinay that holds the unigram path value of file collected by crawler\n",
    "Feature_dictionary = {}\n",
    "\n",
    "feature_list = ['metric','connection','process','cpu','disk','package','config'];\n",
    "\n",
    "#Processing for the centos container\n",
    "filecounter = 0\n",
    "for feature in feature_list:\n",
    "    for metric_file in file_name:\n",
    "        if metric_file.startswith('a') and metric_file.endswith('0'):\n",
    "            filecounter=filecounter+1\n",
    "            fp = open(metric_file, \"r\")\n",
    "            line_holder=[]\n",
    "            for line in fp:\n",
    "                if line.startswith(feature):\n",
    "                    unigram = line.split('\\t')[1]    \n",
    "                    line_holder.append(unigram)\n",
    "            Feature_dictionary['app_{0}'.format(filecounter)] = line_holder   \n",
    "            print \"For '{0}' # of records in {1} : {2}\".format(feature,metric_file,len(line_holder))"
   ]
  },
  {
   "cell_type": "code",
   "execution_count": null,
   "metadata": {
    "collapsed": true
   },
   "outputs": [],
   "source": []
  }
 ],
 "metadata": {
  "kernelspec": {
   "display_name": "Python 2",
   "language": "python",
   "name": "python2"
  },
  "language_info": {
   "codemirror_mode": {
    "name": "ipython",
    "version": 2
   },
   "file_extension": ".py",
   "mimetype": "text/x-python",
   "name": "python",
   "nbconvert_exporter": "python",
   "pygments_lexer": "ipython2",
   "version": "2.7.14"
  }
 },
 "nbformat": 4,
 "nbformat_minor": 2
}
