{
 "cells": [
  {
   "cell_type": "code",
   "execution_count": 1,
   "metadata": {},
   "outputs": [
    {
     "name": "stdout",
     "output_type": "stream",
     "text": [
      "['signature.09db4fb23005.0', 'signature.5e83424dc6be.0', 'signature.b654d26faadd.0', 'signature.bd75efc968fa.0', 'signature.eb5ed34a5440.0', 'signature.fac11f42f38a.0', 'signature.ff53032fbc11.0']\n"
     ]
    }
   ],
   "source": [
    "#Listing the collected files from crawler\n",
    "import os\n",
    "import numpy as np\n",
    "path=\"C:/Users/rkarn/Desktop/Research Materials/Cloud Project/IBM Internship 2018/Work\\Working with Crawler/Crawler_Exercise/Crawler Collected Metrics from Same Ubuntu version\"\n",
    "os.chdir(path)\n",
    "file_name_list = os.listdir(os.getcwd())\n",
    "\n",
    "print file_name_list\n",
    "backup_filename_list = file_name_list[:]"
   ]
  },
  {
   "cell_type": "code",
   "execution_count": 2,
   "metadata": {},
   "outputs": [
    {
     "name": "stdout",
     "output_type": "stream",
     "text": [
      "['signature-apache-container', 'signature-cassandra-container', 'signature-hadoop-container', 'signature-mysql-container', 'signature-sample-python-container', 'signature-ubuntu-container', 'signature-vncserver-container'] \n",
      "['signature.09db4fb23005.0', 'signature.5e83424dc6be.0', 'signature.b654d26faadd.0', 'signature.bd75efc968fa.0', 'signature.eb5ed34a5440.0', 'signature.fac11f42f38a.0', 'signature.ff53032fbc11.0']\n"
     ]
    }
   ],
   "source": [
    "#Processing the file names\n",
    "container_id_name = {'ff53032fbc11':'cassandra-container', 'fac11f42f38a':'hadoop-container', '09db4fb23005':'mysql-container','5e83424dc6be':'apache-container','b654d26faadd':'sample-python-container','bd75efc968fa':'vncserver-container','eb5ed34a5440':'ubuntu-container'}\n",
    "for i in range(len(file_name_list)):\n",
    "    temp_file_name = file_name_list[i].split('.'); \n",
    "    temp_file_name[1] = container_id_name[file_name_list[i].split('.')[1]];\n",
    "    del temp_file_name[-1]\n",
    "    file_name_list[i] = '-'.join(temp_file_name)\n",
    "\n",
    "print sorted(file_name_list), '\\n', sorted(backup_filename_list)"
   ]
  },
  {
   "cell_type": "code",
   "execution_count": 3,
   "metadata": {},
   "outputs": [],
   "source": [
    "#rename the file for easy reading the signature\n",
    "for i in range(len(file_name_list)):\n",
    "    os.rename(backup_filename_list[i], file_name_list[i])"
   ]
  },
  {
   "cell_type": "code",
   "execution_count": 4,
   "metadata": {},
   "outputs": [
    {
     "name": "stdout",
     "output_type": "stream",
     "text": [
      "# of records in signature-apache-container : 6\n",
      "# of records in signature-cassandra-container : 5\n",
      "# of records in signature-hadoop-container : 9\n",
      "# of records in signature-mysql-container : 5\n",
      "# of records in signature-sample-python-container : 5\n",
      "# of records in signature-ubuntu-container : 3\n",
      "# of records in signature-vncserver-container : 28\n"
     ]
    }
   ],
   "source": [
    "#Processing for the crawler files\n",
    "filecounter = 0\n",
    "for metric_file in sorted(file_name_list):\n",
    "    if metric_file.startswith('s'):\n",
    "        filecounter=filecounter+1\n",
    "        fp = open(metric_file, \"r\")\n",
    "        line_holder=[]\n",
    "        for line in fp:\n",
    "            if line.startswith('process'):\n",
    "                unigram = line.split('\\t')[1]    \n",
    "                line_holder.append(unigram)\n",
    "        print \"# of records in {0} : {1}\".format(metric_file,len(line_holder))"
   ]
  },
  {
   "cell_type": "code",
   "execution_count": 5,
   "metadata": {},
   "outputs": [
    {
     "name": "stdout",
     "output_type": "stream",
     "text": [
      "------------column: 1 ---------Filename: signature-apache-container ---------\n",
      "['\"bash/1\"', '\"apache2/2232\"', '\"apache2/2235\"', '\"apache2/2236\"', '\"sleep/20946\"', '\"python2.7/20947\"'] \n",
      "\n",
      "------------column: 2 ---------Filename: signature-cassandra-container ---------\n",
      "['\"bash/1\"', '\"supervisord/20\"', '\"sshd/23\"', '\"java/24\"', '\"python2.7/499\"'] \n",
      "\n",
      "------------column: 3 ---------Filename: signature-hadoop-container ---------\n",
      "['\"bootstrap.sh/1\"', '\"sshd/23\"', '\"java/118\"', '\"java/204\"', '\"java/387\"', '\"java/532\"', '\"java/620\"', '\"bash/649\"', '\"python2.7/1806\"'] \n",
      "\n",
      "------------column: 4 ---------Filename: signature-mysql-container ---------\n",
      "['\"bash/1\"', '\"mysqld_safe/2223\"', '\"mysqld/2573\"', '\"sleep/21142\"', '\"python2.7/21143\"'] \n",
      "\n",
      "------------column: 5 ---------Filename: signature-sample-python-container ---------\n",
      "['\"bash/1\"', '\"bash/3127\"', '\"python/3429\"', '\"sleep/20473\"', '\"python2.7/20474\"'] \n",
      "\n",
      "------------column: 6 ---------Filename: signature-ubuntu-container ---------\n",
      "['\"bash/1\"', '\"sleep/19983\"', '\"python2.7/19984\"'] \n",
      "\n",
      "------------column: 7 ---------Filename: signature-vncserver-container ---------\n",
      "['\"bash/1\"', '\"bash/6342\"', '\"Xtightvnc/14127\"', '\"xstartup/14132\"', '\"sh/14135\"', '\"dbus-launch/14147\"', '\"dbus-daemon/14148\"', '\"dbus-launch/14167\"', '\"dbus-daemon/14168\"', '\"xfce4-session/14187\"', '\"xfconfd/14189\"', '\"gpg-agent/14193\"', '\"xfwm4/14195\"', '\"xfce4-panel/14199\"', '\"Thunar/14201\"', '\"xfdesktop/14203\"', '\"migrate/14211\"', '\"xfce4-power-manager/14216\"', '\"at-spi-bus-launcher/14219\"', '\"dbus-daemon/14224\"', '\"at-spi2-registryd/14228\"', '\"xfce4-notifyd/14230\"', '\"gvfsd/14237\"', '\"gvfs-udisks2-volume-monitor/14255\"', '\"gvfsd-trash/14262\"', '\"gvfsd-metadata/14269\"', '\"sleep/30536\"', '\"python2.7/30537\"'] \n",
      "\n"
     ]
    }
   ],
   "source": [
    "#Extacting the observations in all the container\n",
    "filecounter = 0\n",
    "\n",
    "#Creating a dictorinay that holds the unigram path value of file collected by crawler\n",
    "Signature_dictionary = {}\n",
    "feaure_set = []\n",
    "\n",
    "for observation,metric_file in enumerate(sorted(file_name_list)):\n",
    "    if metric_file.startswith('s'):\n",
    "        print \"------------column: {0} ---------Filename: {1} ---------\".format(observation+1,metric_file)\n",
    "        filecounter=filecounter+1\n",
    "        fp = open(metric_file, \"r\")\n",
    "        line_holder=[]\n",
    "        for line in fp:\n",
    "            if line.startswith('process'):\n",
    "                unigram = line.split('\\t')[1]    \n",
    "                line_holder.append(unigram)\n",
    "        Signature_dictionary['{0}'.format(metric_file)] = line_holder\n",
    "        print line_holder, '\\n'\n",
    "        line_holder=[]"
   ]
  },
  {
   "cell_type": "code",
   "execution_count": 6,
   "metadata": {},
   "outputs": [],
   "source": [
    "#Extracting the signatures of the container\n",
    "for file_name in sorted(file_name_list):\n",
    "    Signature_dictionary[file_name] = list(set(Signature_dictionary[file_name]) - set(Signature_dictionary['signature-ubuntu-container']))"
   ]
  },
  {
   "cell_type": "code",
   "execution_count": 7,
   "metadata": {
    "scrolled": true
   },
   "outputs": [
    {
     "data": {
      "text/plain": [
       "{'signature-apache-container': ['\"python2.7/20947\"',\n",
       "  '\"apache2/2236\"',\n",
       "  '\"sleep/20946\"',\n",
       "  '\"apache2/2232\"',\n",
       "  '\"apache2/2235\"'],\n",
       " 'signature-cassandra-container': ['\"sshd/23\"',\n",
       "  '\"supervisord/20\"',\n",
       "  '\"java/24\"',\n",
       "  '\"python2.7/499\"'],\n",
       " 'signature-hadoop-container': ['\"sshd/23\"',\n",
       "  '\"bootstrap.sh/1\"',\n",
       "  '\"python2.7/1806\"',\n",
       "  '\"java/204\"',\n",
       "  '\"java/387\"',\n",
       "  '\"java/532\"',\n",
       "  '\"java/620\"',\n",
       "  '\"bash/649\"',\n",
       "  '\"java/118\"'],\n",
       " 'signature-mysql-container': ['\"python2.7/21143\"',\n",
       "  '\"mysqld_safe/2223\"',\n",
       "  '\"sleep/21142\"',\n",
       "  '\"mysqld/2573\"'],\n",
       " 'signature-sample-python-container': ['\"python2.7/20474\"',\n",
       "  '\"sleep/20473\"',\n",
       "  '\"python/3429\"',\n",
       "  '\"bash/3127\"'],\n",
       " 'signature-ubuntu-container': [],\n",
       " 'signature-vncserver-container': ['\"xfce4-session/14187\"',\n",
       "  '\"xfce4-power-manager/14216\"',\n",
       "  '\"xfce4-panel/14199\"',\n",
       "  '\"bash/1\"',\n",
       "  '\"dbus-launch/14147\"',\n",
       "  '\"at-spi2-registryd/14228\"',\n",
       "  '\"dbus-daemon/14168\"',\n",
       "  '\"xfdesktop/14203\"',\n",
       "  '\"gvfs-udisks2-volume-monitor/14255\"',\n",
       "  '\"Xtightvnc/14127\"',\n",
       "  '\"dbus-daemon/14148\"',\n",
       "  '\"xfconfd/14189\"',\n",
       "  '\"sleep/30536\"',\n",
       "  '\"gvfsd-metadata/14269\"',\n",
       "  '\"xfwm4/14195\"',\n",
       "  '\"gvfsd/14237\"',\n",
       "  '\"sh/14135\"',\n",
       "  '\"xstartup/14132\"',\n",
       "  '\"python2.7/30537\"',\n",
       "  '\"gpg-agent/14193\"',\n",
       "  '\"dbus-launch/14167\"',\n",
       "  '\"xfce4-notifyd/14230\"',\n",
       "  '\"bash/6342\"',\n",
       "  '\"dbus-daemon/14224\"',\n",
       "  '\"Thunar/14201\"',\n",
       "  '\"migrate/14211\"',\n",
       "  '\"gvfsd-trash/14262\"',\n",
       "  '\"at-spi-bus-launcher/14219\"']}"
      ]
     },
     "execution_count": 7,
     "metadata": {},
     "output_type": "execute_result"
    }
   ],
   "source": [
    "Signature_dictionary"
   ]
  },
  {
   "cell_type": "code",
   "execution_count": 8,
   "metadata": {},
   "outputs": [
    {
     "name": "stdout",
     "output_type": "stream",
     "text": [
      "['signature.09db4fb23005.0', 'signature.09db4fb23005.10', 'signature.09db4fb23005.12', 'signature.09db4fb23005.14', 'signature.09db4fb23005.16', 'signature.09db4fb23005.18', 'signature.09db4fb23005.2', 'signature.09db4fb23005.20', 'signature.09db4fb23005.4', 'signature.09db4fb23005.6', 'signature.09db4fb23005.8', 'signature.5e83424dc6be.0', 'signature.5e83424dc6be.10', 'signature.5e83424dc6be.12', 'signature.5e83424dc6be.14', 'signature.5e83424dc6be.16', 'signature.5e83424dc6be.18', 'signature.5e83424dc6be.2', 'signature.5e83424dc6be.20', 'signature.5e83424dc6be.4', 'signature.5e83424dc6be.6', 'signature.5e83424dc6be.8', 'signature.b654d26faadd.0', 'signature.b654d26faadd.10', 'signature.b654d26faadd.12', 'signature.b654d26faadd.14', 'signature.b654d26faadd.16', 'signature.b654d26faadd.18', 'signature.b654d26faadd.2', 'signature.b654d26faadd.20', 'signature.b654d26faadd.4', 'signature.b654d26faadd.6', 'signature.b654d26faadd.8', 'signature.bd75efc968fa.0', 'signature.bd75efc968fa.10', 'signature.bd75efc968fa.12', 'signature.bd75efc968fa.14', 'signature.bd75efc968fa.16', 'signature.bd75efc968fa.18', 'signature.bd75efc968fa.2', 'signature.bd75efc968fa.20', 'signature.bd75efc968fa.4', 'signature.bd75efc968fa.6', 'signature.bd75efc968fa.8', 'signature.eb5ed34a5440.0', 'signature.eb5ed34a5440.10', 'signature.eb5ed34a5440.12', 'signature.eb5ed34a5440.14', 'signature.eb5ed34a5440.16', 'signature.eb5ed34a5440.18', 'signature.eb5ed34a5440.2', 'signature.eb5ed34a5440.20', 'signature.eb5ed34a5440.4', 'signature.eb5ed34a5440.6', 'signature.eb5ed34a5440.8', 'signature.fac11f42f38a.0', 'signature.fac11f42f38a.10', 'signature.fac11f42f38a.12', 'signature.fac11f42f38a.14', 'signature.fac11f42f38a.16', 'signature.fac11f42f38a.18', 'signature.fac11f42f38a.2', 'signature.fac11f42f38a.20', 'signature.fac11f42f38a.4', 'signature.fac11f42f38a.6', 'signature.fac11f42f38a.8', 'signature.ff53032fbc11.0', 'signature.ff53032fbc11.10', 'signature.ff53032fbc11.12', 'signature.ff53032fbc11.14', 'signature.ff53032fbc11.16', 'signature.ff53032fbc11.18', 'signature.ff53032fbc11.2', 'signature.ff53032fbc11.20', 'signature.ff53032fbc11.4', 'signature.ff53032fbc11.6', 'signature.ff53032fbc11.8']\n"
     ]
    }
   ],
   "source": [
    "path=\"C:/Users/rkarn/Desktop/Research Materials/Cloud Project/IBM Internship 2018/Work/Working with Crawler/Crawler_Exercise/Crawled files with frequency\"\n",
    "os.chdir(path)\n",
    "\n",
    "added_file_name_list = os.listdir(os.getcwd())\n",
    "\n",
    "print added_file_name_list\n",
    "added_backup_filename_list = added_file_name_list[:]\n",
    "\n",
    "container_id_name = {'ff53032fbc11':'cassandra-container', 'fac11f42f38a':'hadoop-container', '09db4fb23005':'mysql-container','5e83424dc6be':'apache-container','b654d26faadd':'sample-python-container','bd75efc968fa':'vncserver-container','eb5ed34a5440':'ubuntu-container'}\n",
    "\n",
    "#Extacting the observations in all the container\n",
    "filecounter = 0\n",
    "\n",
    "#Creating a dictorinay that holds the unigram path value of file collected by crawler\n",
    "Crawled_Feature_dictionary = {}\n",
    "feaure_set = []\n",
    "\n",
    "for observation,metric_file in enumerate(sorted(added_file_name_list)):\n",
    "    if metric_file.startswith('s'):\n",
    "        filecounter=filecounter+1\n",
    "        fp = open(metric_file, \"r\")\n",
    "        line_holder=[]\n",
    "        for line in fp:\n",
    "            if line.startswith('process'):\n",
    "                unigram = line.split('\\t')[1]    \n",
    "                line_holder.append(unigram)\n",
    "        temp_file_name = metric_file.split('.'); \n",
    "        temp_file_name[1] = container_id_name[metric_file.split('.')[1]];\n",
    "        temp_file_name = '-'.join(temp_file_name)\n",
    "        Crawled_Feature_dictionary['{0}'.format(temp_file_name)] = line_holder\n",
    "        line_holder=[]"
   ]
  },
  {
   "cell_type": "code",
   "execution_count": 9,
   "metadata": {
    "scrolled": true
   },
   "outputs": [],
   "source": [
    "#Extracting the application specific unigrams inside the container\n",
    "for file_name in sorted(Crawled_Feature_dictionary.keys()):\n",
    "    Crawled_Feature_dictionary[file_name] = list(set(Crawled_Feature_dictionary[file_name]) - set(Crawled_Feature_dictionary['signature-ubuntu-container-0']))"
   ]
  },
  {
   "cell_type": "code",
   "execution_count": 18,
   "metadata": {},
   "outputs": [
    {
     "name": "stdout",
     "output_type": "stream",
     "text": [
      "['signature-apache-container', 'signature-cassandra-container', 'signature-hadoop-container', 'signature-mysql-container', 'signature-sample-python-container', 'signature-vncserver-container']\n",
      "['signature-apache-container', 'signature-cassandra-container', 'signature-hadoop-container', 'signature-mysql-container', 'signature-sample-python-container', 'signature-vncserver-container']\n",
      "['signature-apache-container', 'signature-cassandra-container', 'signature-hadoop-container', 'signature-mysql-container', 'signature-sample-python-container', 'signature-vncserver-container']\n",
      "['signature-apache-container', 'signature-cassandra-container', 'signature-hadoop-container', 'signature-mysql-container', 'signature-sample-python-container', 'signature-vncserver-container']\n",
      "['signature-apache-container', 'signature-cassandra-container', 'signature-hadoop-container', 'signature-mysql-container', 'signature-sample-python-container', 'signature-vncserver-container']\n",
      "['signature-apache-container', 'signature-cassandra-container', 'signature-hadoop-container', 'signature-mysql-container', 'signature-sample-python-container', 'signature-vncserver-container']\n",
      "['signature-apache-container', 'signature-cassandra-container', 'signature-hadoop-container', 'signature-mysql-container', 'signature-sample-python-container', 'signature-vncserver-container']\n",
      "['signature-apache-container', 'signature-cassandra-container', 'signature-hadoop-container', 'signature-mysql-container', 'signature-sample-python-container', 'signature-vncserver-container']\n",
      "['signature-apache-container', 'signature-cassandra-container', 'signature-hadoop-container', 'signature-mysql-container', 'signature-sample-python-container', 'signature-vncserver-container']\n",
      "['signature-apache-container', 'signature-cassandra-container', 'signature-hadoop-container', 'signature-mysql-container', 'signature-sample-python-container', 'signature-vncserver-container']\n",
      "['signature-apache-container', 'signature-cassandra-container', 'signature-hadoop-container', 'signature-mysql-container', 'signature-sample-python-container', 'signature-vncserver-container']\n"
     ]
    }
   ],
   "source": [
    "feature_row = []\n",
    "Dataset = []\n",
    "processing_occurence = len(Crawled_Feature_dictionary)/7\n",
    "for i in range(processing_occurence):\n",
    "    for signature_key in sorted(Signature_dictionary.keys()):\n",
    "        if signature_key != 'signature-ubuntu-container':\n",
    "            if len(list(set(Crawled_Feature_dictionary[signature_key+'-'+str(i*2)]) - set(Signature_dictionary[signature_key]))) <5:\n",
    "                feature_row.append(signature_key)\n",
    "            else:\n",
    "                feature_row.append('Anomaly')\n",
    "        else:\n",
    "            pass\n",
    "    print feature_row\n",
    "    Dataset.append(feature_row)\n",
    "    feature_row = []"
   ]
  },
  {
   "cell_type": "code",
   "execution_count": 19,
   "metadata": {
    "scrolled": false
   },
   "outputs": [
    {
     "name": "stdout",
     "output_type": "stream",
     "text": [
      "['signature-apache-container', 'signature-cassandra-container', 'signature-hadoop-container', 'signature-mysql-container', 'signature-sample-python-container', 'Anomaly']\n",
      "['signature-apache-container', 'signature-cassandra-container', 'signature-hadoop-container', 'signature-mysql-container', 'signature-sample-python-container', 'Anomaly']\n",
      "['signature-apache-container', 'signature-cassandra-container', 'signature-hadoop-container', 'signature-mysql-container', 'signature-sample-python-container', 'Anomaly']\n",
      "['signature-apache-container', 'Anomaly', 'signature-hadoop-container', 'signature-mysql-container', 'signature-sample-python-container', 'Anomaly']\n",
      "['signature-apache-container', 'Anomaly', 'signature-hadoop-container', 'signature-mysql-container', 'signature-sample-python-container', 'Anomaly']\n",
      "['signature-apache-container', 'signature-cassandra-container', 'signature-hadoop-container', 'signature-mysql-container', 'signature-sample-python-container', 'Anomaly']\n",
      "['signature-apache-container', 'signature-cassandra-container', 'signature-hadoop-container', 'signature-mysql-container', 'signature-sample-python-container', 'Anomaly']\n",
      "['signature-apache-container', 'signature-cassandra-container', 'signature-hadoop-container', 'signature-mysql-container', 'signature-sample-python-container', 'Anomaly']\n",
      "['signature-apache-container', 'signature-cassandra-container', 'signature-hadoop-container', 'Anomaly', 'signature-sample-python-container', 'Anomaly']\n",
      "['signature-apache-container', 'signature-cassandra-container', 'signature-hadoop-container', 'Anomaly', 'signature-sample-python-container', 'Anomaly']\n",
      "['signature-apache-container', 'signature-cassandra-container', 'signature-hadoop-container', 'signature-mysql-container', 'signature-sample-python-container', 'Anomaly']\n"
     ]
    }
   ],
   "source": [
    "feature_row = []\n",
    "Dataset2 = []\n",
    "processing_occurence = len(Crawled_Feature_dictionary)/7\n",
    "for i in range(processing_occurence):\n",
    "    for signature_key in sorted(Signature_dictionary.keys()):\n",
    "        if signature_key != 'signature-ubuntu-container':\n",
    "            if len(list(set(Crawled_Feature_dictionary[signature_key+'-'+str(i*2)]) - set(Signature_dictionary[signature_key]))) <4:\n",
    "                feature_row.append(signature_key)\n",
    "            else:\n",
    "                feature_row.append('Anomaly')\n",
    "        else:\n",
    "            pass\n",
    "    print feature_row\n",
    "    Dataset2.append(feature_row)\n",
    "    feature_row = []"
   ]
  },
  {
   "cell_type": "code",
   "execution_count": 21,
   "metadata": {
    "collapsed": true
   },
   "outputs": [],
   "source": [
    "path=\"C:/Users/rkarn/Desktop/Research Materials/Cloud Project/IBM Internship 2018/Work/Working with Crawler/Crawler_Exercise/outlierdet-master/outlierdet-master\"\n",
    "os.chdir(path)"
   ]
  },
  {
   "cell_type": "code",
   "execution_count": 32,
   "metadata": {},
   "outputs": [
    {
     "name": "stdout",
     "output_type": "stream",
     "text": [
      "ONLY FILES\n",
      "['sha25642600621e0316f91078caf8a46239b7429ebb4ac1f83e7d3211d7272859b273c-process']\n",
      "1\n",
      "LISTALL\n",
      "[\"'signature-apache-container'\", \"'signature-cassandra-container'\", \"'signature-hadoop-container'\", \"'signature-mysql-container'\", \"'signature-sample-python-container'\", \"'signature-vncserver-container'\\n\", \"'Anomaly'\\n\", \"'Anomaly'\"]\n",
      "6\n",
      "22\n",
      "NARRAY\n",
      "(23L, 6L)\n",
      "[[ 0.  1.  2.  3.  4.  5.]\n",
      " [ 0.  1.  2.  3.  4.  5.]\n",
      " [ 0.  1.  2.  3.  4.  5.]\n",
      " [ 0.  1.  2.  3.  4.  5.]\n",
      " [ 0.  1.  2.  3.  4.  5.]\n",
      " [ 0.  1.  2.  3.  4.  5.]\n",
      " [ 0.  1.  2.  3.  4.  5.]]\n",
      "[[ 0.  1.  2.  3.  4.  5.]\n",
      " [ 0.  1.  2.  3.  4.  5.]\n",
      " [ 0.  1.  2.  3.  4.  5.]\n",
      " [ 0.  1.  2.  3.  4.  5.]\n",
      " [ 0.  1.  2.  3.  4.  6.]\n",
      " [ 0.  1.  2.  3.  4.  6.]\n",
      " [ 0.  1.  2.  3.  4.  6.]\n",
      " [ 0.  7.  2.  3.  4.  6.]\n",
      " [ 0.  7.  2.  3.  4.  6.]\n",
      " [ 0.  1.  2.  3.  4.  6.]]\n",
      "[[ 0.  1.  2.  3.  4.  6.]\n",
      " [ 0.  1.  2.  7.  4.  6.]\n",
      " [ 0.  1.  2.  7.  4.  6.]\n",
      " [ 0.  1.  2.  3.  4.  7.]]\n",
      "1\n",
      "5\n",
      "0\n"
     ]
    },
    {
     "data": {
      "image/png": "[encoded data removed]",
      "text/plain": [
       "<matplotlib.figure.Figure at 0xb6e3a58>"
      ]
     },
     "metadata": {},
     "output_type": "display_data"
    }
   ],
   "source": [
    "import os\n",
    "from os import listdir\n",
    "from os.path import isfile, join\n",
    "import numpy as np\n",
    "import re\n",
    "import matplotlib.pyplot as plt\n",
    "import matplotlib.font_manager\n",
    "from sklearn import svm\n",
    "from sklearn.decomposition import PCA # Principal Component Analysis module\n",
    "import matplotlib.pyplot as plt #, mpld3\n",
    "\n",
    "mypath = path\n",
    "\n",
    "\n",
    "def encode_observations(onlyfiles):\n",
    "  listall = []\n",
    "  maxlen = 0\n",
    "  \n",
    "  for f in onlyfiles:\n",
    "      with open(f, 'r') as fl:\n",
    "        for line in fl: \n",
    "          xlist = line.split(',')\n",
    "          xlen = len(xlist)\n",
    "          if xlen > maxlen:\n",
    "             maxlen = xlen\n",
    "          for xi in xlist:\n",
    "             if xi not in listall:\n",
    "               listall.append(xi)\n",
    "  print \"LISTALL\"\n",
    "  print listall \n",
    "  return listall,maxlen\n",
    "\n",
    "def aencode(xlist, listall, maxcol):\n",
    "    encod = []\n",
    "    for i in range(0, maxcol):\n",
    "      if i < len(xlist):\n",
    "        encod.append(listall.index(xlist[i])) \n",
    "      else:\n",
    "        encod.append(0.0) \n",
    "    return encod \n",
    "\n",
    "def create_array(listall, mfiles, cols):  \n",
    "\n",
    "  linenum = 0\n",
    "  for index, f in enumerate(mfiles):\n",
    "      with open(f, 'r') as fl:\n",
    "         for line in fl:\n",
    "            linenum = linenum + 1\n",
    "  total_rows = linenum\n",
    "  print total_rows\n",
    "  narray = np.empty([total_rows+1, cols])\n",
    "  linenum = 0\n",
    "  for index, f in enumerate(mfiles):\n",
    "      with open(f, 'r') as fl:\n",
    "         for line in fl:\n",
    "           linenum = linenum + 1\n",
    "           xlist = line.split(',')\n",
    "           array_row = aencode(xlist, listall, cols)\n",
    "           narray[ linenum ] = array_row\n",
    "  print \"NARRAY\"\n",
    "  print narray.shape\n",
    "  return narray \n",
    "         \n",
    "\n",
    "if __name__ == \"__main__\" :  \n",
    "#   onlyfiles = [f for f in listdir(mypath)]\n",
    "#   print onlyfiles\n",
    "   onlyfiles = [f for f in listdir(mypath) if re.match('sha256.*process', f)]\n",
    "   print \"ONLY FILES\"\n",
    "   print onlyfiles \n",
    "   print len(onlyfiles) \n",
    "   mfiles = onlyfiles\n",
    "   \n",
    "   listall,maxcols = encode_observations(mfiles)\n",
    "   print maxcols\n",
    "   karray = create_array(listall, mfiles, maxcols)\n",
    "   karray = karray[1:,:] \n",
    "   xx, yy = np.meshgrid(np.linspace(-6, 6, 500), np.linspace(-6, 6, 500))\n",
    "   # Generate train data\n",
    "#   X_train1,X_test1,X_outliers1 = karray[:50:], karray[50:60,:],karray[60:,:]\n",
    "#   X_train1,X_test1,X_outliers1 = karray[:500:], karray[500:600,:],karray[600:,:]\n",
    "#   X_train1,X_test1,X_outliers1 = karray[:100:], karray[100:110,:],karray[1000:1050,:]\n",
    "   X_train1,X_test1,X_outliers1 = karray[:7:], karray[7:17,:],karray[18:22,:]\n",
    "   #PCA\n",
    "\n",
    "   X_train = X_train1[:, :2]\n",
    "   noise = np.random.normal(0, 1, X_train.shape)\n",
    "   X_train = X_train + noise\n",
    "\n",
    "   X_test = X_test1[:,:2]\n",
    "   noise = np.random.normal(0, 1, X_test.shape)\n",
    "   X_test = X_test + noise\n",
    "\n",
    "\n",
    "#   X_outliers = X_outliers1[:,:2]\n",
    "#   X_outliers = np.array([[4.0, 7.0], [4.0, 7.0]])\n",
    "   X_outliers = np.array([[4.0, 5.0]])\n",
    "   noise = np.random.normal(0, 1, X_outliers.shape)\n",
    "   X_outliers = X_outliers + noise\n",
    "   print X_train1\n",
    "   print X_test1\n",
    "   print X_outliers1\n",
    "\n",
    "   # fit the model\n",
    "   clf = svm.OneClassSVM(nu=0.1, kernel=\"rbf\", gamma=0.1)\n",
    "   clf.fit(X_train)\n",
    "   y_pred_train = clf.predict(X_train)\n",
    "   y_pred_test = clf.predict(X_test)\n",
    "   y_pred_outliers = clf.predict(X_outliers)\n",
    "   n_error_train = y_pred_train[y_pred_train == -1].size\n",
    "   n_error_test = y_pred_test[y_pred_test == -1].size\n",
    "   n_error_outliers = y_pred_outliers[y_pred_outliers == 1].size\n",
    "   print(n_error_train)\n",
    "   print(n_error_test)\n",
    "   print(n_error_outliers)\n",
    "\n",
    "   # plot the line, the points, and the nearest vectors to the plane\n",
    "   Z = clf.decision_function(np.c_[xx.ravel(), yy.ravel()])\n",
    "   Z = Z.reshape(xx.shape)\n",
    "\n",
    "   plt.title(\"Novelty Detection\")\n",
    "   plt.contourf(xx, yy, Z, levels=np.linspace(Z.min(), 0, 7), cmap=plt.cm.PuBu)\n",
    "   a = plt.contour(xx, yy, Z, levels=[0], linewidths=2, colors='darkred')\n",
    "   plt.contourf(xx, yy, Z, levels=[0, Z.max()], colors='palevioletred')\n",
    "\n",
    "   s = 40\n",
    "   b1 = plt.scatter(X_train[:, 0], X_train[:, 1], c='white', s=s, edgecolors='k')\n",
    "   b2 = plt.scatter(X_test[:, 0], X_test[:, 1], c='blueviolet', s=s,\n",
    "                 edgecolors='k')\n",
    "   c = plt.scatter(X_outliers[:, 0], X_outliers[:, 1], c='gold', s=s,\n",
    "                edgecolors='k')\n",
    "   plt.axis('tight')\n",
    "#   plt.tight_layout()\n",
    "   plt.xlim((-6, 6))\n",
    "   plt.ylim((-6, 6))\n",
    "   plt.legend([a.collections[0], b1, b2, c],\n",
    "           [\"learned frontier\", \"training observations\",\n",
    "            \"new regular observations\", \"new abnormal observations\"],\n",
    "           loc=\"upper left\",\n",
    "           prop=matplotlib.font_manager.FontProperties(size=11))\n",
    "   plt.xlabel(\n",
    "    \"error train: %d/200 ; errors novel regular: %d/40 ; \"\n",
    "    \"errors novel abnormal: %d/40\"\n",
    "    % (n_error_train, n_error_test, n_error_outliers))\n",
    "   plt.show()\n"
   ]
  },
  {
   "cell_type": "code",
   "execution_count": null,
   "metadata": {
    "collapsed": true
   },
   "outputs": [],
   "source": []
  }
 ],
 "metadata": {
  "kernelspec": {
   "display_name": "Python 2",
   "language": "python",
   "name": "python2"
  },
  "language_info": {
   "codemirror_mode": {
    "name": "ipython",
    "version": 2
   },
   "file_extension": ".py",
   "mimetype": "text/x-python",
   "name": "python",
   "nbconvert_exporter": "python",
   "pygments_lexer": "ipython2",
   "version": "2.7.14"
  }
 },
 "nbformat": 4,
 "nbformat_minor": 2
}
