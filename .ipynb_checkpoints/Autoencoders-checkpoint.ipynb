{
 "cells": [
  {
   "cell_type": "code",
   "execution_count": 1,
   "metadata": {},
   "outputs": [
    {
     "name": "stdout",
     "output_type": "stream",
     "text": [
      "4\n",
      "4\n",
      "84\n",
      "314\n",
      "21\n",
      "6\n",
      "188\n",
      "4\n",
      "23\n",
      "244\n"
     ]
    }
   ],
   "source": [
    "#Open the csv file containing config metric collected by crawler\n",
    "fp = open(\"before.csv.0\", \"r\")\n",
    "line_holder=[]\n",
    "for line in fp:\n",
    "    line_holder.append(line)\n",
    "file_keywords = ['account', 'metadata', 'host', 'etc', 'ssh', 'false', 'true', 'sshd', 'name', 'passwd', 'hostname', '@', 'com', 'var', 'sudoers', 'alias']\n",
    "\n",
    "import re\n",
    "for i in range(len(line_holder)):\n",
    "    line_holder[i] = re.split('\\s+', line_holder[i])\n",
    "\n",
    "for i in range(len(line_holder)):\n",
    "    print len(line_holder[i])\n",
    "    \n",
    "for i in range(0,len(line_holder)):\n",
    "    for j in range(0,len(line_holder[i])):\n",
    "        for k in range(0,len(file_keywords)):\n",
    "            line_holder[i][j] = str(line_holder[i][j])\n",
    "            m = re.search(file_keywords[k],line_holder[i][j])\n",
    "            if m is not None:\n",
    "                line_holder[i][j] = 1\n",
    "                break;\n",
    "        if line_holder[i][j] != 1:\n",
    "            line_holder[i][j] = 0\n",
    "\n",
    "feature_vector=[]\n",
    "for i in range(len(line_holder)):\n",
    "    feature_vector.append(line_holder[i].count(1))"
   ]
  },
  {
   "cell_type": "code",
   "execution_count": null,
   "metadata": {
    "collapsed": true
   },
   "outputs": [],
   "source": [
    "from keras.layers import Input, Dense\n",
    "from keras.models import Model\n",
    "import numpy as np\n",
    "# this is the size of our encoded representations\n",
    "encoding_dim = 5\n",
    "\n",
    "x_train=np.array([feature_vector, [i-0.1 for i in feature_vector], [i+0.15 for i in feature_vector],[i+0.2 for i in feature_vector],feature_vector,[i-0.2 for i in feature_vector]])\n",
    "input = Input(shape=(10,))\n",
    "encoded = Dense(encoding_dim, activation='relu')(input)\n",
    "decoded = Dense(10, activation='linear')(encoded)\n",
    "\n",
    "# this model maps an input to its reconstruction\n",
    "autoencoder = Model(input, decoded)\n",
    "autoencoder.compile(optimizer='adadelta', loss='mse')\n",
    "\n",
    "autoencoder.fit(x_train, x_train,epochs=10000,batch_size=4)\n",
    "print(autoencoder.predict(x_train))"
   ]
  },
  {
   "cell_type": "code",
   "execution_count": 2,
   "metadata": {},
   "outputs": [
    {
     "name": "stdout",
     "output_type": "stream",
     "text": [
      "[3, 2, 11, 43, 6, 3, 20, 2, 13, 23]\n"
     ]
    }
   ],
   "source": [
    "print feature_vector"
   ]
  },
  {
   "cell_type": "code",
   "execution_count": 5,
   "metadata": {},
   "outputs": [
    {
     "name": "stdout",
     "output_type": "stream",
     "text": [
      "[[  3.01539826   2.01509333  11.01885891  42.99304581   6.01652431\n",
      "    3.01539898  20.03319359   2.01510382  13.02004528  23.01654053]\n",
      " [  3.00171947   2.00535774  10.96919346  42.80046844   5.98945427\n",
      "    3.00170445  19.94358826   2.00523353  12.96140289  22.91320801]\n",
      " [  3.03591609   2.02969694  11.09335899  43.28191376   6.05712986\n",
      "    3.03594041  20.16760063   2.0299089   13.10800838  23.17153931]\n",
      " [  3.04275537   2.03456473  11.11819172  43.37820053   6.07066488\n",
      "    3.04278779  20.21240425   2.03484416  13.1373291   23.22320557]\n",
      " [  3.01539826   2.01509333  11.01885891  42.99304581   6.01652431\n",
      "    3.01539898  20.03319359   2.01510382  13.02004528  23.01654053]\n",
      " [  2.98804092   1.99562216  10.91952705  42.60789108   5.96238422\n",
      "    2.98801017  19.85398293   1.99536324  12.90276051  22.80987549]]\n"
     ]
    }
   ],
   "source": [
    "print(autoencoder.predict(x_train))"
   ]
  },
  {
   "cell_type": "code",
   "execution_count": null,
   "metadata": {
    "collapsed": true
   },
   "outputs": [],
   "source": []
  }
 ],
 "metadata": {
  "kernelspec": {
   "display_name": "Python 2",
   "language": "python",
   "name": "python2"
  },
  "language_info": {
   "codemirror_mode": {
    "name": "ipython",
    "version": 2
   },
   "file_extension": ".py",
   "mimetype": "text/x-python",
   "name": "python",
   "nbconvert_exporter": "python",
   "pygments_lexer": "ipython2",
   "version": "2.7.14"
  }
 },
 "nbformat": 4,
 "nbformat_minor": 2
}
