{
 "cells": [
  {
   "cell_type": "code",
   "execution_count": 9,
   "metadata": {},
   "outputs": [
    {
     "name": "stdout",
     "output_type": "stream",
     "text": [
      "['.ipynb_checkpoints', '.picasa.ini', 'centos5.11.6a77cdcd4e51.0', 'centos5.a0f8e1c9ede0.0', 'centos6.6.19494226358d.0', 'centos6.7.55c7f40f0eac.0', 'centos6.8.7f4c7d980794.0', 'centos6.9.fc5fcc54e9be.0', 'centos6.a8b14a36fb59.0', 'centos7.0.1406.f6175eb9936f.0', 'centos7.1.1503.97bb3c044d41.0', 'centos7.2.1511.3396d9e7ba26.0', 'centos7.3.1611.90e3d7fbcc20.0', 'centos7.4.1708.558fa9c5643a.0', 'centos7.59d57860f4ae.0', 'Crawler Metric Processing - 2.ipynb', 'crawler metric processing.ipynb', 'crawler_collected_files', 'Crawler_Exercise', 'created_dataset_X.pkl', 'dummy.txt', 'dummy_image.png', 'filename.png', 'P2180019.JPG', 'pixel_file_centos_1.png', 'pixel_file_centos_10.png', 'pixel_file_centos_11.png', 'pixel_file_centos_12.png', 'pixel_file_centos_13.png', 'pixel_file_centos_2.png', 'pixel_file_centos_3.png', 'pixel_file_centos_4.png', 'pixel_file_centos_5.png', 'pixel_file_centos_6.png', 'pixel_file_centos_7.png', 'pixel_file_centos_8.png', 'pixel_file_centos_9.png', 'pixel_file_ubuntu_1.png', 'pixel_file_ubuntu_10.png', 'pixel_file_ubuntu_11.png', 'pixel_file_ubuntu_12.png', 'pixel_file_ubuntu_13.png', 'pixel_file_ubuntu_14.png', 'pixel_file_ubuntu_15.png', 'pixel_file_ubuntu_16.png', 'pixel_file_ubuntu_17.png', 'pixel_file_ubuntu_18.png', 'pixel_file_ubuntu_2.png', 'pixel_file_ubuntu_3.png', 'pixel_file_ubuntu_4.png', 'pixel_file_ubuntu_5.png', 'pixel_file_ubuntu_6.png', 'pixel_file_ubuntu_7.png', 'pixel_file_ubuntu_8.png', 'pixel_file_ubuntu_9.png', 'ubuntu10.04.e11366eb15a4.0', 'ubuntu12.04.2c67f0261f71.0', 'ubuntu12.04.5.1a0e573b9665.0', 'ubuntu12.10.7a838b8719e1.0', 'ubuntu13.04.9588ae629aea.0', 'ubuntu13.10.86c64f9624e7.0', 'ubuntu14.04.1.fdbe7226379e.0', 'ubuntu14.04.2.fb4035e1c467.0', 'ubuntu14.04.3.9bd5b4d0cd69.0', 'ubuntu14.04.4.c83e5a548c50.0', 'ubuntu14.04.5.0db3a66d6794.0', 'ubuntu14.04.d9664eaca4a5.0', 'ubuntu15.10.2a6b350b49f3.0', 'ubuntu16.04.579859c874dc.0', 'ubuntu16.10.ec782ccc466e.0', 'ubuntu17.04.140e8fbad90b.0', 'ubuntu17.10.f26902038205.0', 'ubuntu18.04.6a75aab4424d.0', 'ubuntu_centos_classification.csv', 'Working with Image and Pixels.ipynb']\n"
     ]
    }
   ],
   "source": [
    "#List the files of the directory --> collected from crawler\n",
    "import os\n",
    "import numpy as np\n",
    "file_name = os.listdir(os.getcwd())\n",
    "\n",
    "print file_name"
   ]
  },
  {
   "cell_type": "code",
   "execution_count": 16,
   "metadata": {},
   "outputs": [
    {
     "name": "stdout",
     "output_type": "stream",
     "text": [
      "Number of records in file centos5.11.6a77cdcd4e51.0 : 17193\n",
      "Number of records in file centos5.a0f8e1c9ede0.0 : 17214\n",
      "Number of records in file centos6.6.19494226358d.0 : 10945\n",
      "Number of records in file centos6.7.55c7f40f0eac.0 : 8840\n",
      "Number of records in file centos6.8.7f4c7d980794.0 : 10285\n",
      "Number of records in file centos6.9.fc5fcc54e9be.0 : 10299\n",
      "Number of records in file centos6.a8b14a36fb59.0 : 10263\n",
      "Number of records in file centos7.0.1406.f6175eb9936f.0 : 10597\n",
      "Number of records in file centos7.1.1503.97bb3c044d41.0 : 10648\n",
      "Number of records in file centos7.2.1511.3396d9e7ba26.0 : 9421\n",
      "Number of records in file centos7.3.1611.90e3d7fbcc20.0 : 9784\n",
      "Number of records in file centos7.4.1708.558fa9c5643a.0 : 9859\n",
      "Number of records in file centos7.59d57860f4ae.0 : 9819\n",
      "Number of records in file ubuntu10.04.e11366eb15a4.0 : 8470\n",
      "Number of records in file ubuntu12.04.2c67f0261f71.0 : 6561\n",
      "Number of records in file ubuntu12.04.5.1a0e573b9665.0 : 6561\n",
      "Number of records in file ubuntu12.10.7a838b8719e1.0 : 6518\n",
      "Number of records in file ubuntu13.04.9588ae629aea.0 : 6375\n",
      "Number of records in file ubuntu13.10.86c64f9624e7.0 : 6262\n",
      "Number of records in file ubuntu14.04.1.fdbe7226379e.0 : 10144\n",
      "Number of records in file ubuntu14.04.2.fb4035e1c467.0 : 10159\n",
      "Number of records in file ubuntu14.04.3.9bd5b4d0cd69.0 : 10161\n",
      "Number of records in file ubuntu14.04.4.c83e5a548c50.0 : 10170\n",
      "Number of records in file ubuntu14.04.5.0db3a66d6794.0 : 10184\n",
      "Number of records in file ubuntu14.04.d9664eaca4a5.0 : 10186\n",
      "Number of records in file ubuntu15.10.2a6b350b49f3.0 : 6090\n",
      "Number of records in file ubuntu16.04.579859c874dc.0 : 3535\n",
      "Number of records in file ubuntu16.10.ec782ccc466e.0 : 5383\n",
      "Number of records in file ubuntu17.04.140e8fbad90b.0 : 2946\n",
      "Number of records in file ubuntu17.10.f26902038205.0 : 2998\n",
      "Number of records in file ubuntu18.04.6a75aab4424d.0 : 2930\n"
     ]
    }
   ],
   "source": [
    "#Creating a dictorinay that holds the unigram path value of file collected by crawler\n",
    "Feature_dictionary = {}\n",
    "\n",
    "#Processing for the centos container\n",
    "filecounter = 0\n",
    "for metric_file in file_name:\n",
    "    if metric_file.startswith('c') and metric_file.endswith('0'):\n",
    "        filecounter=filecounter+1\n",
    "        fp = open(metric_file, \"r\")\n",
    "        line_holder=[]\n",
    "        for line in fp:\n",
    "            if line.startswith('file'):\n",
    "                unigram = line.split('\\t')[1]    \n",
    "                line_holder.append(unigram)\n",
    "        Feature_dictionary['file_centos_{0}'.format(filecounter)] = line_holder   \n",
    "        print \"Number of records in file {0} : {1}\".format(metric_file,len(line_holder))\n",
    "\n",
    "#Processing for the ubuntu container\n",
    "filecounter = 0\n",
    "for metric_file in file_name:\n",
    "    if metric_file.startswith('u') and metric_file.endswith('0'):\n",
    "        filecounter=filecounter+1\n",
    "        fp = open(metric_file, \"r\")\n",
    "        line_holder=[]\n",
    "        for line in fp:\n",
    "            if line.startswith('file'):\n",
    "                unigram = line.split('\\t')[1]    \n",
    "                line_holder.append(unigram)\n",
    "        Feature_dictionary['file_ubuntu_{0}'.format(filecounter)] = line_holder   \n",
    "        print \"Number of records in file {0} : {1}\".format(metric_file,len(line_holder))\n",
    "   "
   ]
  },
  {
   "cell_type": "code",
   "execution_count": 20,
   "metadata": {
    "collapsed": true
   },
   "outputs": [],
   "source": [
    "Feature_dictionary_keys = Feature_dictionary.keys()\n",
    "unique_unigrams = []\n",
    "for dict_key in Feature_dictionary_keys:\n",
    "    unique_unigrams.append(list(set(Feature_dictionary[dict_key])))\n",
    "    \n",
    "unique_unigrams_flat = [item for sublist in unique_unigrams for item in sublist]"
   ]
  },
  {
   "cell_type": "code",
   "execution_count": 30,
   "metadata": {},
   "outputs": [
    {
     "name": "stdout",
     "output_type": "stream",
     "text": [
      "49288 are unique codes out of: 270800\n"
     ]
    }
   ],
   "source": [
    "print len(set(unique_unigrams_flat)), 'are unique codes out of:', len(unique_unigrams_flat)"
   ]
  },
  {
   "cell_type": "code",
   "execution_count": null,
   "metadata": {
    "collapsed": true
   },
   "outputs": [],
   "source": []
  }
 ],
 "metadata": {
  "kernelspec": {
   "display_name": "Python 2",
   "language": "python",
   "name": "python2"
  },
  "language_info": {
   "codemirror_mode": {
    "name": "ipython",
    "version": 2
   },
   "file_extension": ".py",
   "mimetype": "text/x-python",
   "name": "python",
   "nbconvert_exporter": "python",
   "pygments_lexer": "ipython2",
   "version": "2.7.14"
  }
 },
 "nbformat": 4,
 "nbformat_minor": 2
}
